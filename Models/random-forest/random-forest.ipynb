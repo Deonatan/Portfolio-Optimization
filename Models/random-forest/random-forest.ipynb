{
 "cells": [
  {
   "cell_type": "code",
   "execution_count": 17,
   "metadata": {},
   "outputs": [],
   "source": [
    "import pandas as pd\n",
    "import numpy as np\n",
    "from datetime import datetime\n",
    "\n",
    "from sklearn.linear_model import LinearRegression\n",
    "from sklearn.metrics import mean_squared_error\n",
    "from sklearn.ensemble import RandomForestRegressor\n",
    "\n",
    "import matplotlib.pyplot as plt\n",
    "import seaborn as sns"
   ]
  },
  {
   "cell_type": "markdown",
   "metadata": {},
   "source": [
    "### Reading Data\n",
    "\n",
    " - **Date**: Date of the record \n",
    " - **Open**: Opening price of the day \n",
    " - **High**: Highest trade price during the day \n",
    " - **Low**: Lowest trade price during the day\n",
    " - **Close**: The closing price for the day \n",
    " - **Volume**: The number of shares traded\n",
    " - **Adj Close**: The daily closing price, adjusted retroactively to include any corporate actions (adjusted close)"
   ]
  },
  {
   "cell_type": "code",
   "execution_count": 18,
   "metadata": {},
   "outputs": [
    {
     "name": "stdout",
     "output_type": "stream",
     "text": [
      "               Open          High           Low         Close        Volume  \\\n",
      "count  16590.000000  16590.000000  16590.000000  16590.000000  1.659000e+04   \n",
      "mean     482.570941    485.624237    479.367501    482.692491  7.940099e+08   \n",
      "std      554.889186    558.186049    551.367625    555.007904  1.456582e+09   \n",
      "min       16.660000     16.660000     16.660000     16.660000  6.800000e+05   \n",
      "25%       83.860001     84.594997     83.139997     83.860001  7.610000e+06   \n",
      "50%      144.049996    145.294998    143.105004    144.264999  7.170500e+07   \n",
      "75%      950.722488    956.665024    941.969986    950.797500  7.866750e+08   \n",
      "max     2130.360107   2134.719971   2126.060059   2130.820068  1.145623e+10   \n",
      "\n",
      "          Adj Close  \n",
      "count  16590.000000  \n",
      "mean     482.692491  \n",
      "std      555.007904  \n",
      "min       16.660000  \n",
      "25%       83.860001  \n",
      "50%      144.264999  \n",
      "75%      950.797500  \n",
      "max     2130.820068  \n",
      "\n",
      "df shape:  (16590, 7)\n"
     ]
    },
    {
     "data": {
      "text/html": [
       "<div>\n",
       "<style scoped>\n",
       "    .dataframe tbody tr th:only-of-type {\n",
       "        vertical-align: middle;\n",
       "    }\n",
       "\n",
       "    .dataframe tbody tr th {\n",
       "        vertical-align: top;\n",
       "    }\n",
       "\n",
       "    .dataframe thead th {\n",
       "        text-align: right;\n",
       "    }\n",
       "</style>\n",
       "<table border=\"1\" class=\"dataframe\">\n",
       "  <thead>\n",
       "    <tr style=\"text-align: right;\">\n",
       "      <th></th>\n",
       "      <th>Date</th>\n",
       "      <th>Open</th>\n",
       "      <th>High</th>\n",
       "      <th>Low</th>\n",
       "      <th>Close</th>\n",
       "      <th>Volume</th>\n",
       "      <th>Adj Close</th>\n",
       "    </tr>\n",
       "  </thead>\n",
       "  <tbody>\n",
       "    <tr>\n",
       "      <th>0</th>\n",
       "      <td>2015-12-07</td>\n",
       "      <td>2090.419922</td>\n",
       "      <td>2090.419922</td>\n",
       "      <td>2066.780029</td>\n",
       "      <td>2077.070068</td>\n",
       "      <td>4.043820e+09</td>\n",
       "      <td>2077.070068</td>\n",
       "    </tr>\n",
       "    <tr>\n",
       "      <th>1</th>\n",
       "      <td>2015-12-04</td>\n",
       "      <td>2051.239990</td>\n",
       "      <td>2093.840088</td>\n",
       "      <td>2051.239990</td>\n",
       "      <td>2091.689941</td>\n",
       "      <td>4.214910e+09</td>\n",
       "      <td>2091.689941</td>\n",
       "    </tr>\n",
       "    <tr>\n",
       "      <th>2</th>\n",
       "      <td>2015-12-03</td>\n",
       "      <td>2080.709961</td>\n",
       "      <td>2085.000000</td>\n",
       "      <td>2042.349976</td>\n",
       "      <td>2049.620117</td>\n",
       "      <td>4.306490e+09</td>\n",
       "      <td>2049.620117</td>\n",
       "    </tr>\n",
       "    <tr>\n",
       "      <th>3</th>\n",
       "      <td>2015-12-02</td>\n",
       "      <td>2101.709961</td>\n",
       "      <td>2104.270020</td>\n",
       "      <td>2077.110107</td>\n",
       "      <td>2079.510010</td>\n",
       "      <td>3.950640e+09</td>\n",
       "      <td>2079.510010</td>\n",
       "    </tr>\n",
       "    <tr>\n",
       "      <th>4</th>\n",
       "      <td>2015-12-01</td>\n",
       "      <td>2082.929932</td>\n",
       "      <td>2103.370117</td>\n",
       "      <td>2082.929932</td>\n",
       "      <td>2102.629883</td>\n",
       "      <td>3.712120e+09</td>\n",
       "      <td>2102.629883</td>\n",
       "    </tr>\n",
       "  </tbody>\n",
       "</table>\n",
       "</div>"
      ],
      "text/plain": [
       "         Date         Open         High          Low        Close  \\\n",
       "0  2015-12-07  2090.419922  2090.419922  2066.780029  2077.070068   \n",
       "1  2015-12-04  2051.239990  2093.840088  2051.239990  2091.689941   \n",
       "2  2015-12-03  2080.709961  2085.000000  2042.349976  2049.620117   \n",
       "3  2015-12-02  2101.709961  2104.270020  2077.110107  2079.510010   \n",
       "4  2015-12-01  2082.929932  2103.370117  2082.929932  2102.629883   \n",
       "\n",
       "         Volume    Adj Close  \n",
       "0  4.043820e+09  2077.070068  \n",
       "1  4.214910e+09  2091.689941  \n",
       "2  4.306490e+09  2049.620117  \n",
       "3  3.950640e+09  2079.510010  \n",
       "4  3.712120e+09  2102.629883  "
      ]
     },
     "execution_count": 18,
     "metadata": {},
     "output_type": "execute_result"
    }
   ],
   "source": [
    "#read the S&P Index Data\n",
    "\n",
    "snphist = pd.read_csv('sphist.csv')\n",
    "print(snphist.describe())\n",
    "print(\"\\ndf shape: \", snphist.shape)\n",
    "snphist.head()"
   ]
  },
  {
   "cell_type": "code",
   "execution_count": 19,
   "metadata": {},
   "outputs": [
    {
     "data": {
      "text/html": [
       "<div>\n",
       "<style scoped>\n",
       "    .dataframe tbody tr th:only-of-type {\n",
       "        vertical-align: middle;\n",
       "    }\n",
       "\n",
       "    .dataframe tbody tr th {\n",
       "        vertical-align: top;\n",
       "    }\n",
       "\n",
       "    .dataframe thead th {\n",
       "        text-align: right;\n",
       "    }\n",
       "</style>\n",
       "<table border=\"1\" class=\"dataframe\">\n",
       "  <thead>\n",
       "    <tr style=\"text-align: right;\">\n",
       "      <th></th>\n",
       "      <th>Date</th>\n",
       "      <th>Open</th>\n",
       "      <th>High</th>\n",
       "      <th>Low</th>\n",
       "      <th>Close</th>\n",
       "      <th>Volume</th>\n",
       "      <th>Adj Close</th>\n",
       "    </tr>\n",
       "  </thead>\n",
       "  <tbody>\n",
       "    <tr>\n",
       "      <th>16589</th>\n",
       "      <td>1950-01-03</td>\n",
       "      <td>16.66</td>\n",
       "      <td>16.66</td>\n",
       "      <td>16.66</td>\n",
       "      <td>16.66</td>\n",
       "      <td>1260000.0</td>\n",
       "      <td>16.66</td>\n",
       "    </tr>\n",
       "    <tr>\n",
       "      <th>16588</th>\n",
       "      <td>1950-01-04</td>\n",
       "      <td>16.85</td>\n",
       "      <td>16.85</td>\n",
       "      <td>16.85</td>\n",
       "      <td>16.85</td>\n",
       "      <td>1890000.0</td>\n",
       "      <td>16.85</td>\n",
       "    </tr>\n",
       "    <tr>\n",
       "      <th>16587</th>\n",
       "      <td>1950-01-05</td>\n",
       "      <td>16.93</td>\n",
       "      <td>16.93</td>\n",
       "      <td>16.93</td>\n",
       "      <td>16.93</td>\n",
       "      <td>2550000.0</td>\n",
       "      <td>16.93</td>\n",
       "    </tr>\n",
       "    <tr>\n",
       "      <th>16586</th>\n",
       "      <td>1950-01-06</td>\n",
       "      <td>16.98</td>\n",
       "      <td>16.98</td>\n",
       "      <td>16.98</td>\n",
       "      <td>16.98</td>\n",
       "      <td>2010000.0</td>\n",
       "      <td>16.98</td>\n",
       "    </tr>\n",
       "    <tr>\n",
       "      <th>16585</th>\n",
       "      <td>1950-01-09</td>\n",
       "      <td>17.08</td>\n",
       "      <td>17.08</td>\n",
       "      <td>17.08</td>\n",
       "      <td>17.08</td>\n",
       "      <td>2520000.0</td>\n",
       "      <td>17.08</td>\n",
       "    </tr>\n",
       "  </tbody>\n",
       "</table>\n",
       "</div>"
      ],
      "text/plain": [
       "            Date   Open   High    Low  Close     Volume  Adj Close\n",
       "16589 1950-01-03  16.66  16.66  16.66  16.66  1260000.0      16.66\n",
       "16588 1950-01-04  16.85  16.85  16.85  16.85  1890000.0      16.85\n",
       "16587 1950-01-05  16.93  16.93  16.93  16.93  2550000.0      16.93\n",
       "16586 1950-01-06  16.98  16.98  16.98  16.98  2010000.0      16.98\n",
       "16585 1950-01-09  17.08  17.08  17.08  17.08  2520000.0      17.08"
      ]
     },
     "execution_count": 19,
     "metadata": {},
     "output_type": "execute_result"
    }
   ],
   "source": [
    "# Convert 'Date' column to Pandas data type\n",
    "snphist['Date'] = pd.to_datetime(snphist['Date'])\n",
    "\n",
    "# Sort df by that column\n",
    "snphist.sort_values(by=['Date'], inplace=True)\n",
    "snphist.head()"
   ]
  },
  {
   "cell_type": "markdown",
   "metadata": {},
   "source": [
    "### New Indicators\n",
    "\n",
    "In order to prevent injecting future knowledge into the moddel, we will create indicators based on the past:\n",
    "\n",
    "1. Average price for the last 5 days\n",
    "2. Average price for the last 365 days\n",
    "3. Ratio between the average price for the past 5 days and the average price for the past 365 days\n",
    "4. Standard deviation of the price for the last 5 days\n",
    "5. Standard deviation of the price for the last 365 days\n",
    "6. Ratio between the standard deviation for the past 5 days and the standard deviation for the past 365 days\n",
    "7. The average volume for the past 5 days\n",
    "8. The average volume for the past 365 days\n",
    "9. The ratio between the average volume for the past 5 days and the average volume for the past 365 days\n",
    "10. The ratio between the lowest price in the past year and the current price\n"
   ]
  },
  {
   "cell_type": "code",
   "execution_count": 20,
   "metadata": {},
   "outputs": [],
   "source": [
    "# 1\n",
    "\n",
    "snphist['avg_price_5'] = snphist['Close'].rolling(5).mean()\n",
    "# Avoid using current day's price by reindexing\n",
    "snphist['avg_price_5'] = snphist['avg_price_5'].shift()\n",
    "\n",
    "# 2\n",
    "\n",
    "snphist['avg_price_365'] = snphist['Close'].rolling(365).mean()\n",
    "# Avoid using current day's price by reindexing\n",
    "snphist['avg_price_365'] = snphist['avg_price_365'].shift()\n",
    "\n",
    "# 3\n",
    "snphist['avg_price_5_365'] = snphist['avg_price_5'] / snphist['avg_price_365']\n",
    "\n",
    "# 4\n",
    "snphist['std_price_5'] = snphist['Close'].rolling(5).std()\n",
    "# Avoid using current day's price by reindexing\n",
    "snphist['std_price_5'] = snphist['std_price_5'].shift() \n",
    "\n",
    "# 5 \n",
    "snphist['std_price_365'] = snphist['Close'].rolling(365).std()\n",
    "# Avoid using current day's price by reindexing\n",
    "snphist['std_price_365'] = snphist['std_price_365'].shift() \n",
    "\n",
    "# 6\n",
    "snphist['std_price_5_365'] = snphist['std_price_5'] / snphist['std_price_365']\n",
    "\n",
    "# 7 \n",
    "snphist['avg_volume_5'] = snphist['Volume'].rolling(5).mean()\n",
    "# Avoid using current day's price by reindexing\n",
    "snphist['avg_volume_5'] = snphist['avg_volume_5'].shift() \n",
    "\n",
    "# 8\n",
    "snphist['avg_volume_365'] = snphist['Volume'].rolling(365).mean()\n",
    "# Avoid using current day's price by reindexing\n",
    "snphist['avg_volume_365'] = snphist['avg_volume_365'].shift() \n",
    "\n",
    "# 9\n",
    "snphist['avg_volume_5_365'] = snphist['avg_volume_5'] / snphist['avg_volume_365']\n",
    "\n",
    "# 10\n",
    "min_last_year = snphist['Close'].rolling(365).min()\n",
    "snphist['last_min_current_ratio'] = min_last_year / snphist['Close']\n",
    "snphist['last_min_current_ratio'] = snphist['last_min_current_ratio'].shift()"
   ]
  },
  {
   "cell_type": "markdown",
   "metadata": {},
   "source": [
    "### Data Cleaning\n",
    "\n",
    "Since the new indicators now rely on previous 5 and 365 days, considering that the first observation corresponds to 1950-01-03, we need to \n",
    "\n",
    "1. Remove any rows from dataframe that is before 1951-01-03\n",
    "2. Remove any rows with NaN values"
   ]
  },
  {
   "cell_type": "code",
   "execution_count": 21,
   "metadata": {},
   "outputs": [
    {
     "name": "stdout",
     "output_type": "stream",
     "text": [
      "# of observations before:  16590\n",
      "NaN values before: \n",
      "\n",
      " Date                        0\n",
      "Open                        0\n",
      "High                        0\n",
      "Low                         0\n",
      "Close                       0\n",
      "Volume                      0\n",
      "Adj Close                   0\n",
      "avg_price_5                 5\n",
      "avg_price_365             365\n",
      "avg_price_5_365           365\n",
      "std_price_5                 5\n",
      "std_price_365             365\n",
      "std_price_5_365           365\n",
      "avg_volume_5                5\n",
      "avg_volume_365            365\n",
      "avg_volume_5_365          365\n",
      "last_min_current_ratio    365\n",
      "dtype: int64\n",
      "\n",
      "# of observations after:  16225\n",
      "NaN values after: \n",
      "\n",
      " Date                      0\n",
      "Open                      0\n",
      "High                      0\n",
      "Low                       0\n",
      "Close                     0\n",
      "Volume                    0\n",
      "Adj Close                 0\n",
      "avg_price_5               0\n",
      "avg_price_365             0\n",
      "avg_price_5_365           0\n",
      "std_price_5               0\n",
      "std_price_365             0\n",
      "std_price_5_365           0\n",
      "avg_volume_5              0\n",
      "avg_volume_365            0\n",
      "avg_volume_5_365          0\n",
      "last_min_current_ratio    0\n",
      "dtype: int64\n"
     ]
    }
   ],
   "source": [
    "print(\"# of observations before: \", snphist.shape[0])\n",
    "print(\"NaN values before: \\n\\n\", snphist.isnull().sum())\n",
    "\n",
    "snphist = snphist[snphist['Date'] > datetime(year=1951, month=1, day=2)]\n",
    "snphist.dropna(axis=0, inplace=True)\n",
    "\n",
    "print(\"\\n# of observations after: \", snphist.shape[0])\n",
    "print(\"NaN values after: \\n\\n\", snphist.isnull().sum())"
   ]
  },
  {
   "cell_type": "markdown",
   "metadata": {},
   "source": [
    "### Train/Test Split\n",
    "\n",
    "Train: Up to 2013-01-01 <br> <br>\n",
    "Test: After 2013-01-01"
   ]
  },
  {
   "cell_type": "code",
   "execution_count": 22,
   "metadata": {},
   "outputs": [
    {
     "name": "stdout",
     "output_type": "stream",
     "text": [
      "Train:  (15486, 17)\n",
      "Test:  (739, 17)\n"
     ]
    }
   ],
   "source": [
    "train = snphist[snphist[\"Date\"] < datetime(year=2013, month=1, day=1)]\n",
    "test = snphist[snphist[\"Date\"] >= datetime(year=2013, month=1, day=1)]\n",
    "\n",
    "print(\"Train: \", train.shape)\n",
    "print(\"Test: \", test.shape)"
   ]
  },
  {
   "cell_type": "markdown",
   "metadata": {},
   "source": [
    "### Linear Regression"
   ]
  },
  {
   "cell_type": "code",
   "execution_count": 23,
   "metadata": {},
   "outputs": [
    {
     "name": "stdout",
     "output_type": "stream",
     "text": [
      "last_min_current_ratio   -0.105400\n",
      "avg_volume_5_365         -0.012305\n",
      "avg_price_5_365           0.047782\n",
      "std_price_5_365           0.087018\n",
      "std_price_5               0.722414\n",
      "Volume                    0.772817\n",
      "avg_volume_5              0.780896\n",
      "avg_volume_365            0.784878\n",
      "std_price_365             0.816103\n",
      "Date                      0.872202\n",
      "avg_price_365             0.988870\n",
      "avg_price_5               0.999793\n",
      "Open                      0.999900\n",
      "High                      0.999953\n",
      "Low                       0.999956\n",
      "Adj Close                 1.000000\n",
      "Close                     1.000000\n",
      "Name: Close, dtype: float64\n"
     ]
    },
    {
     "data": {
      "text/plain": [
       "<Axes: >"
      ]
     },
     "execution_count": 23,
     "metadata": {},
     "output_type": "execute_result"
    },
    {
     "data": {
      "image/png": "[encoded data removed]",
      "text/plain": [
       "<Figure size 1500x1000 with 2 Axes>"
      ]
     },
     "metadata": {},
     "output_type": "display_data"
    }
   ],
   "source": [
    "# Correlation Heatmap\n",
    "sorted_corrs = snphist.corr()['Close'].sort_values()\n",
    "\n",
    "print(sorted_corrs)\n",
    "fig, ax = plt.subplots(figsize=(15,10))\n",
    "sns.heatmap(snphist[sorted_corrs.index].corr())"
   ]
  },
  {
   "cell_type": "code",
   "execution_count": 24,
   "metadata": {},
   "outputs": [
    {
     "name": "stdout",
     "output_type": "stream",
     "text": [
      "-----------------\n",
      "Linear regression\n",
      "-----------------\n",
      "MSE:  485.0212370892355\n",
      "MAE:  16.02 degrees\n",
      "Accuracy: 99.15 %.\n"
     ]
    }
   ],
   "source": [
    "features = ['avg_price_5', 'avg_price_365', 'avg_price_5_365', 'std_price_5', \n",
    "            'std_price_365', 'std_price_5_365', 'avg_volume_5', 'avg_volume_365', \n",
    "            'avg_volume_5_365', 'last_min_current_ratio']\n",
    "\n",
    "X_train = train[features]\n",
    "y_train = train['Close']\n",
    "\n",
    "X_test = test[features]\n",
    "y_test = test['Close']\n",
    "\n",
    "# Train\n",
    "lr = LinearRegression()\n",
    "lr.fit(X_train, y_train)\n",
    "\n",
    "# Predict\n",
    "closing_price_pred_lr = lr.predict(X_test)\n",
    "\n",
    "# --------------------------------------------------\n",
    "# Performance metrics\n",
    "# --------------------------------------------------\n",
    "\n",
    "# Calculate MSE\n",
    "mse_lr = mean_squared_error(y_test, closing_price_pred_lr)\n",
    "\n",
    "# Calculate the absolute errors and MAPE\n",
    "errors_lr = abs(closing_price_pred_lr - y_test)\n",
    "mape_lr = 100 * (errors_lr / y_test)\n",
    "\n",
    "# MAE\n",
    "mae_lr = round(np.mean(errors_lr), 2)\n",
    "\n",
    "# Accuracy\n",
    "accuracy_lr = 100 - np.mean(mape_lr)\n",
    "\n",
    "print(\"-----------------\\nLinear regression\\n-----------------\")\n",
    "print(\"MSE: \", mse_lr)\n",
    "print(\"MAE: \", mae_lr, \"degrees\")\n",
    "print('Accuracy:', round(accuracy_lr, 2), '%.')"
   ]
  },
  {
   "cell_type": "markdown",
   "metadata": {},
   "source": [
    "Linear Regression may have high accuracy but may not be as effective for predicting actual stock market behaviour as stock market dynamics often involve nonlinearities that linear regression cannot capture."
   ]
  },
  {
   "cell_type": "markdown",
   "metadata": {},
   "source": [
    "### Random Forest"
   ]
  },
  {
   "cell_type": "code",
   "execution_count": 25,
   "metadata": {},
   "outputs": [
    {
     "name": "stdout",
     "output_type": "stream",
     "text": [
      "-----------------\n",
      "Random Forest\n",
      "-----------------\n",
      "MAE:  345.83 degrees\n",
      "Accuracy: 82.47 %.\n"
     ]
    }
   ],
   "source": [
    "rf = RandomForestRegressor(n_estimators=150, random_state=1, min_samples_leaf=2)\n",
    "\n",
    "# Train \n",
    "rf.fit(X_train, y_train)\n",
    "\n",
    "# Predict\n",
    "closing_price_pred_rf = rf.predict(X_test)\n",
    "\n",
    "# --------------------------------------------------\n",
    "# Performance metrics\n",
    "# --------------------------------------------------\n",
    "\n",
    "# Calculate the absolute errors and MAPE\n",
    "errors_rf = abs(closing_price_pred_rf - y_test)\n",
    "mape_rf = 100 * (errors_rf / y_test)\n",
    "\n",
    "# MAE\n",
    "mae_rf = round(np.mean(errors_rf), 2)\n",
    "\n",
    "# Accuracy\n",
    "accuracy_rf = 100 - np.mean(mape_rf)\n",
    "\n",
    "print(\"-----------------\\nRandom Forest\\n-----------------\")\n",
    "print(\"MAE: \", mae_rf, \"degrees\")\n",
    "print('Accuracy:', round(accuracy_rf, 2), '%.')"
   ]
  }
 ],
 "metadata": {
  "kernelspec": {
   "display_name": "base",
   "language": "python",
   "name": "python3"
  },
  "language_info": {
   "codemirror_mode": {
    "name": "ipython",
    "version": 3
   },
   "file_extension": ".py",
   "mimetype": "text/x-python",
   "name": "python",
   "nbconvert_exporter": "python",
   "pygments_lexer": "ipython3",
   "version": "3.11.4"
  }
 },
 "nbformat": 4,
 "nbformat_minor": 2
}
