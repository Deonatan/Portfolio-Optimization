{
 "cells": [
  {
   "cell_type": "code",
   "execution_count": 30,
   "metadata": {},
   "outputs": [],
   "source": [
    "from pprint import pprint\n",
    "import pandas as pd\n",
    "import numpy as np\n",
    "import matplotlib.pyplot as plt\n",
    "import seaborn as sns"
   ]
  },
  {
   "cell_type": "code",
   "execution_count": 31,
   "metadata": {},
   "outputs": [],
   "source": [
    "import praw\n",
    "\n",
    "user_agent = \"Scraper 1.0\"\n",
    "reddit = praw.Reddit(\n",
    "    client_id = \"gscPTd0wywq_IjgqoL1Smg\",\n",
    "    client_secret = \"UAeWcM7eWeVXQVRJLZehtFq655Dzmw\",\n",
    "    user_agent = user_agent\n",
    ")"
   ]
  },
  {
   "cell_type": "code",
   "execution_count": 32,
   "metadata": {},
   "outputs": [
    {
     "name": "stdout",
     "output_type": "stream",
     "text": [
      "1964\n"
     ]
    }
   ],
   "source": [
    "headlines = set()\n",
    "\n",
    "for submission in reddit.subreddit('politics').hot(limit = None):\n",
    "    #print(submission.title)\n",
    "    #print(submission.id)\n",
    "    #print(submission.author)\n",
    "    #print(submission.created_utc)\n",
    "    #print(submission.score)\n",
    "    #print(submission.upvote_ratio)\n",
    "    #print(submission.url)\n",
    "    #break\n",
    "    headlines.add(submission.title)\n",
    "for submission in reddit.subreddit('news').hot(limit = None):\n",
    "    headlines.add(submission.title)\n",
    "for submission in reddit.subreddit('worldnews').hot(limit = None):\n",
    "    headlines.add(submission.title)\n",
    "for submission in reddit.subreddit('technology').hot(limit = None):\n",
    "    headlines.add(submission.title)\n",
    "print(len(headlines))\n"
   ]
  },
  {
   "cell_type": "code",
   "execution_count": 33,
   "metadata": {},
   "outputs": [
    {
     "data": {
      "text/html": [
       "<div>\n",
       "<style scoped>\n",
       "    .dataframe tbody tr th:only-of-type {\n",
       "        vertical-align: middle;\n",
       "    }\n",
       "\n",
       "    .dataframe tbody tr th {\n",
       "        vertical-align: top;\n",
       "    }\n",
       "\n",
       "    .dataframe thead th {\n",
       "        text-align: right;\n",
       "    }\n",
       "</style>\n",
       "<table border=\"1\" class=\"dataframe\">\n",
       "  <thead>\n",
       "    <tr style=\"text-align: right;\">\n",
       "      <th></th>\n",
       "      <th>0</th>\n",
       "    </tr>\n",
       "  </thead>\n",
       "  <tbody>\n",
       "    <tr>\n",
       "      <th>0</th>\n",
       "      <td>French intelligence says police vetted a suspe...</td>\n",
       "    </tr>\n",
       "    <tr>\n",
       "      <th>1</th>\n",
       "      <td>Canada's foreign affairs minister arrives in I...</td>\n",
       "    </tr>\n",
       "    <tr>\n",
       "      <th>2</th>\n",
       "      <td>Israel plans evacuation of Israeli northern re...</td>\n",
       "    </tr>\n",
       "    <tr>\n",
       "      <th>3</th>\n",
       "      <td>Real wars are now Flamewars - Why social media...</td>\n",
       "    </tr>\n",
       "    <tr>\n",
       "      <th>4</th>\n",
       "      <td>Microsoft’s Activision Blizzard acquisition is...</td>\n",
       "    </tr>\n",
       "  </tbody>\n",
       "</table>\n",
       "</div>"
      ],
      "text/plain": [
       "                                                   0\n",
       "0  French intelligence says police vetted a suspe...\n",
       "1  Canada's foreign affairs minister arrives in I...\n",
       "2  Israel plans evacuation of Israeli northern re...\n",
       "3  Real wars are now Flamewars - Why social media...\n",
       "4  Microsoft’s Activision Blizzard acquisition is..."
      ]
     },
     "execution_count": 33,
     "metadata": {},
     "output_type": "execute_result"
    }
   ],
   "source": [
    "df = pd.DataFrame(headlines)\n",
    "df.head()"
   ]
  },
  {
   "cell_type": "code",
   "execution_count": 34,
   "metadata": {},
   "outputs": [],
   "source": [
    "df.to_csv('headlines.csv', header = False, encoding = 'utf-8', index = False)"
   ]
  },
  {
   "cell_type": "code",
   "execution_count": 35,
   "metadata": {},
   "outputs": [
    {
     "name": "stderr",
     "output_type": "stream",
     "text": [
      "[nltk_data] Downloading package vader_lexicon to\n",
      "[nltk_data]     /home/albert/nltk_data...\n",
      "[nltk_data]   Package vader_lexicon is already up-to-date!\n"
     ]
    },
    {
     "data": {
      "text/plain": [
       "True"
      ]
     },
     "execution_count": 35,
     "metadata": {},
     "output_type": "execute_result"
    }
   ],
   "source": [
    "import nltk\n",
    "nltk.download('vader_lexicon')"
   ]
  },
  {
   "cell_type": "code",
   "execution_count": 36,
   "metadata": {},
   "outputs": [
    {
     "name": "stdout",
     "output_type": "stream",
     "text": [
      "[{'compound': -0.7845,\n",
      "  'headline': 'French intelligence says police vetted a suspected attacker the day before knife '\n",
      "              'killing at school.',\n",
      "  'neg': 0.433,\n",
      "  'neu': 0.433,\n",
      "  'pos': 0.134},\n",
      " {'compound': -0.3182,\n",
      "  'headline': \"Canada's foreign affairs minister arrives in Israel amid Hamas conflict\",\n",
      "  'neg': 0.204,\n",
      "  'neu': 0.796,\n",
      "  'pos': 0.0},\n",
      " {'compound': 0.0,\n",
      "  'headline': 'Israel plans evacuation of Israeli northern residents living up to 2 km from '\n",
      "              \"Lebanon's border\",\n",
      "  'neg': 0.0,\n",
      "  'neu': 1.0,\n",
      "  'pos': 0.0}]\n"
     ]
    }
   ],
   "source": [
    "from nltk.sentiment.vader import SentimentIntensityAnalyzer as SIA\n",
    "sia = SIA()\n",
    "results = []\n",
    "for line in headlines:\n",
    "    pol_score = sia.polarity_scores(line)\n",
    "    pol_score['headline'] = line\n",
    "    results.append(pol_score)\n",
    "\n",
    "pprint(results[:3], width = 100 )"
   ]
  },
  {
   "cell_type": "code",
   "execution_count": 37,
   "metadata": {},
   "outputs": [
    {
     "data": {
      "text/html": [
       "<div>\n",
       "<style scoped>\n",
       "    .dataframe tbody tr th:only-of-type {\n",
       "        vertical-align: middle;\n",
       "    }\n",
       "\n",
       "    .dataframe tbody tr th {\n",
       "        vertical-align: top;\n",
       "    }\n",
       "\n",
       "    .dataframe thead th {\n",
       "        text-align: right;\n",
       "    }\n",
       "</style>\n",
       "<table border=\"1\" class=\"dataframe\">\n",
       "  <thead>\n",
       "    <tr style=\"text-align: right;\">\n",
       "      <th></th>\n",
       "      <th>neg</th>\n",
       "      <th>neu</th>\n",
       "      <th>pos</th>\n",
       "      <th>compound</th>\n",
       "      <th>headline</th>\n",
       "    </tr>\n",
       "  </thead>\n",
       "  <tbody>\n",
       "    <tr>\n",
       "      <th>0</th>\n",
       "      <td>0.433</td>\n",
       "      <td>0.433</td>\n",
       "      <td>0.134</td>\n",
       "      <td>-0.7845</td>\n",
       "      <td>French intelligence says police vetted a suspe...</td>\n",
       "    </tr>\n",
       "    <tr>\n",
       "      <th>1</th>\n",
       "      <td>0.204</td>\n",
       "      <td>0.796</td>\n",
       "      <td>0.000</td>\n",
       "      <td>-0.3182</td>\n",
       "      <td>Canada's foreign affairs minister arrives in I...</td>\n",
       "    </tr>\n",
       "    <tr>\n",
       "      <th>2</th>\n",
       "      <td>0.000</td>\n",
       "      <td>1.000</td>\n",
       "      <td>0.000</td>\n",
       "      <td>0.0000</td>\n",
       "      <td>Israel plans evacuation of Israeli northern re...</td>\n",
       "    </tr>\n",
       "    <tr>\n",
       "      <th>3</th>\n",
       "      <td>0.347</td>\n",
       "      <td>0.653</td>\n",
       "      <td>0.000</td>\n",
       "      <td>-0.8176</td>\n",
       "      <td>Real wars are now Flamewars - Why social media...</td>\n",
       "    </tr>\n",
       "    <tr>\n",
       "      <th>4</th>\n",
       "      <td>0.000</td>\n",
       "      <td>0.749</td>\n",
       "      <td>0.251</td>\n",
       "      <td>0.6908</td>\n",
       "      <td>Microsoft’s Activision Blizzard acquisition is...</td>\n",
       "    </tr>\n",
       "  </tbody>\n",
       "</table>\n",
       "</div>"
      ],
      "text/plain": [
       "     neg    neu    pos  compound  \\\n",
       "0  0.433  0.433  0.134   -0.7845   \n",
       "1  0.204  0.796  0.000   -0.3182   \n",
       "2  0.000  1.000  0.000    0.0000   \n",
       "3  0.347  0.653  0.000   -0.8176   \n",
       "4  0.000  0.749  0.251    0.6908   \n",
       "\n",
       "                                            headline  \n",
       "0  French intelligence says police vetted a suspe...  \n",
       "1  Canada's foreign affairs minister arrives in I...  \n",
       "2  Israel plans evacuation of Israeli northern re...  \n",
       "3  Real wars are now Flamewars - Why social media...  \n",
       "4  Microsoft’s Activision Blizzard acquisition is...  "
      ]
     },
     "execution_count": 37,
     "metadata": {},
     "output_type": "execute_result"
    }
   ],
   "source": [
    "df = pd.DataFrame.from_records(results)\n",
    "df.head()"
   ]
  },
  {
   "cell_type": "code",
   "execution_count": 38,
   "metadata": {},
   "outputs": [
    {
     "data": {
      "text/html": [
       "<div>\n",
       "<style scoped>\n",
       "    .dataframe tbody tr th:only-of-type {\n",
       "        vertical-align: middle;\n",
       "    }\n",
       "\n",
       "    .dataframe tbody tr th {\n",
       "        vertical-align: top;\n",
       "    }\n",
       "\n",
       "    .dataframe thead th {\n",
       "        text-align: right;\n",
       "    }\n",
       "</style>\n",
       "<table border=\"1\" class=\"dataframe\">\n",
       "  <thead>\n",
       "    <tr style=\"text-align: right;\">\n",
       "      <th></th>\n",
       "      <th>neg</th>\n",
       "      <th>neu</th>\n",
       "      <th>pos</th>\n",
       "      <th>compound</th>\n",
       "      <th>headline</th>\n",
       "      <th>label</th>\n",
       "    </tr>\n",
       "  </thead>\n",
       "  <tbody>\n",
       "    <tr>\n",
       "      <th>0</th>\n",
       "      <td>0.433</td>\n",
       "      <td>0.433</td>\n",
       "      <td>0.134</td>\n",
       "      <td>-0.7845</td>\n",
       "      <td>French intelligence says police vetted a suspe...</td>\n",
       "      <td>-1</td>\n",
       "    </tr>\n",
       "    <tr>\n",
       "      <th>1</th>\n",
       "      <td>0.204</td>\n",
       "      <td>0.796</td>\n",
       "      <td>0.000</td>\n",
       "      <td>-0.3182</td>\n",
       "      <td>Canada's foreign affairs minister arrives in I...</td>\n",
       "      <td>-1</td>\n",
       "    </tr>\n",
       "    <tr>\n",
       "      <th>2</th>\n",
       "      <td>0.000</td>\n",
       "      <td>1.000</td>\n",
       "      <td>0.000</td>\n",
       "      <td>0.0000</td>\n",
       "      <td>Israel plans evacuation of Israeli northern re...</td>\n",
       "      <td>0</td>\n",
       "    </tr>\n",
       "    <tr>\n",
       "      <th>3</th>\n",
       "      <td>0.347</td>\n",
       "      <td>0.653</td>\n",
       "      <td>0.000</td>\n",
       "      <td>-0.8176</td>\n",
       "      <td>Real wars are now Flamewars - Why social media...</td>\n",
       "      <td>-1</td>\n",
       "    </tr>\n",
       "    <tr>\n",
       "      <th>4</th>\n",
       "      <td>0.000</td>\n",
       "      <td>0.749</td>\n",
       "      <td>0.251</td>\n",
       "      <td>0.6908</td>\n",
       "      <td>Microsoft’s Activision Blizzard acquisition is...</td>\n",
       "      <td>1</td>\n",
       "    </tr>\n",
       "  </tbody>\n",
       "</table>\n",
       "</div>"
      ],
      "text/plain": [
       "     neg    neu    pos  compound  \\\n",
       "0  0.433  0.433  0.134   -0.7845   \n",
       "1  0.204  0.796  0.000   -0.3182   \n",
       "2  0.000  1.000  0.000    0.0000   \n",
       "3  0.347  0.653  0.000   -0.8176   \n",
       "4  0.000  0.749  0.251    0.6908   \n",
       "\n",
       "                                            headline  label  \n",
       "0  French intelligence says police vetted a suspe...     -1  \n",
       "1  Canada's foreign affairs minister arrives in I...     -1  \n",
       "2  Israel plans evacuation of Israeli northern re...      0  \n",
       "3  Real wars are now Flamewars - Why social media...     -1  \n",
       "4  Microsoft’s Activision Blizzard acquisition is...      1  "
      ]
     },
     "execution_count": 38,
     "metadata": {},
     "output_type": "execute_result"
    }
   ],
   "source": [
    "df['label'] = 0 \n",
    "df.loc[df['compound'] > 0.2, 'label'] = 1\n",
    "df.loc[df['compound'] < 0.2, 'label'] = -1\n",
    "df.loc[(0.2 > df['compound']) & (df['compound'] > -0.2), 'label'] = 0\n",
    "df.head()\n",
    "\n"
   ]
  },
  {
   "cell_type": "code",
   "execution_count": 39,
   "metadata": {},
   "outputs": [],
   "source": [
    "df2 = df[['headline', 'label']]"
   ]
  },
  {
   "cell_type": "code",
   "execution_count": 40,
   "metadata": {},
   "outputs": [],
   "source": [
    "df2.to_csv('reddit_headline_labels.csv', encoding = 'utf-8', index = False)"
   ]
  },
  {
   "cell_type": "code",
   "execution_count": 41,
   "metadata": {},
   "outputs": [
    {
     "data": {
      "text/plain": [
       "label\n",
       "-1    812\n",
       " 0    782\n",
       " 1    370\n",
       "Name: count, dtype: int64"
      ]
     },
     "execution_count": 41,
     "metadata": {},
     "output_type": "execute_result"
    }
   ],
   "source": [
    "df.label.value_counts()"
   ]
  },
  {
   "cell_type": "code",
   "execution_count": 42,
   "metadata": {},
   "outputs": [
    {
     "data": {
      "text/plain": [
       "label\n",
       "-1    41.344196\n",
       " 0    39.816701\n",
       " 1    18.839104\n",
       "Name: proportion, dtype: float64"
      ]
     },
     "execution_count": 42,
     "metadata": {},
     "output_type": "execute_result"
    }
   ],
   "source": [
    "df.label.value_counts(normalize = True) * 100"
   ]
  },
  {
   "cell_type": "code",
   "execution_count": 43,
   "metadata": {},
   "outputs": [
    {
     "name": "stdout",
     "output_type": "stream",
     "text": [
      "Positive headlines: \n",
      "\n",
      "['Microsoft’s Activision Blizzard acquisition is now clear to close after a UK regulator has given it a final stamp of approval.',\n",
      " 'New California law creates Ebony Alert to find missing Black youth and women',\n",
      " 'Cannabis firms are cut off from the US financial system, but relief is in sight; US Senate is eyeing a bill that would allow banks to do business with cannabis companies – now, if only they would '\n",
      " 'vote on it',\n",
      " 'Leaked Microsoft pay guidelines reveal salary, hiring bonus, and stock award ranges by level',\n",
      " 'Rubio asks Biden administration to cancel visas for foreign nationals supporting Hamas']\n",
      "\n",
      "Negative headlines: \n",
      "\n",
      "['French intelligence says police vetted a suspected attacker the day before knife killing at school.',\n",
      " \"Canada's foreign affairs minister arrives in Israel amid Hamas conflict\",\n",
      " 'Real wars are now Flamewars - Why social media battles are now an integral part of modern day military conflict',\n",
      " 'New York governor backs suspension of ‘right to shelter’ as migrant influx strains city',\n",
      " 'Malaysia PM Anwar: disagree with Western pressure to condemn Hamas']\n"
     ]
    }
   ],
   "source": [
    "print(\"Positive headlines: \\n\")\n",
    "pprint(list(df[df['label'] == 1].headline)[:5], width = 200)\n",
    "\n",
    "print(\"\\nNegative headlines: \\n\")\n",
    "pprint(list(df[df['label'] == -1].headline)[:5], width = 200)"
   ]
  },
  {
   "cell_type": "code",
   "execution_count": 44,
   "metadata": {},
   "outputs": [
    {
     "name": "stderr",
     "output_type": "stream",
     "text": [
      "/tmp/ipykernel_6880/3139448537.py:5: UserWarning: set_ticklabels() should only be used with a fixed number of ticks, i.e. after set_ticks() or using a FixedLocator.\n",
      "  ax.set_xticklabels([\"Negative\", \"Neutral\", \"Positive\"])\n"
     ]
    },
    {
     "data": {
      "image/png": "[encoded data removed]",
      "text/plain": [
       "<Figure size 800x800 with 1 Axes>"
      ]
     },
     "metadata": {},
     "output_type": "display_data"
    }
   ],
   "source": [
    "fig, ax = plt.subplots(figsize = (8, 8))\n",
    "counts = df.label.value_counts(normalize = True)*100\n",
    "\n",
    "sns.barplot(x=counts.index, y=counts, ax=ax)\n",
    "ax.set_xticklabels([\"Negative\", \"Neutral\", \"Positive\"])\n",
    "ax.set_ylabel(\"Percentage\")\n",
    "plt.show()"
   ]
  },
  {
   "cell_type": "code",
   "execution_count": 45,
   "metadata": {},
   "outputs": [
    {
     "data": {
      "text/html": [
       "<div>\n",
       "<style scoped>\n",
       "    .dataframe tbody tr th:only-of-type {\n",
       "        vertical-align: middle;\n",
       "    }\n",
       "\n",
       "    .dataframe tbody tr th {\n",
       "        vertical-align: top;\n",
       "    }\n",
       "\n",
       "    .dataframe thead th {\n",
       "        text-align: right;\n",
       "    }\n",
       "</style>\n",
       "<table border=\"1\" class=\"dataframe\">\n",
       "  <thead>\n",
       "    <tr style=\"text-align: right;\">\n",
       "      <th></th>\n",
       "      <th>compound</th>\n",
       "      <th>headline</th>\n",
       "    </tr>\n",
       "  </thead>\n",
       "  <tbody>\n",
       "    <tr>\n",
       "      <th>0</th>\n",
       "      <td>-0.7845</td>\n",
       "      <td>French intelligence says police vetted a suspe...</td>\n",
       "    </tr>\n",
       "    <tr>\n",
       "      <th>1</th>\n",
       "      <td>-0.3182</td>\n",
       "      <td>Canada's foreign affairs minister arrives in I...</td>\n",
       "    </tr>\n",
       "    <tr>\n",
       "      <th>2</th>\n",
       "      <td>0.0000</td>\n",
       "      <td>Israel plans evacuation of Israeli northern re...</td>\n",
       "    </tr>\n",
       "    <tr>\n",
       "      <th>3</th>\n",
       "      <td>-0.8176</td>\n",
       "      <td>Real wars are now Flamewars - Why social media...</td>\n",
       "    </tr>\n",
       "    <tr>\n",
       "      <th>4</th>\n",
       "      <td>0.6908</td>\n",
       "      <td>Microsoft’s Activision Blizzard acquisition is...</td>\n",
       "    </tr>\n",
       "  </tbody>\n",
       "</table>\n",
       "</div>"
      ],
      "text/plain": [
       "   compound                                           headline\n",
       "0   -0.7845  French intelligence says police vetted a suspe...\n",
       "1   -0.3182  Canada's foreign affairs minister arrives in I...\n",
       "2    0.0000  Israel plans evacuation of Israeli northern re...\n",
       "3   -0.8176  Real wars are now Flamewars - Why social media...\n",
       "4    0.6908  Microsoft’s Activision Blizzard acquisition is..."
      ]
     },
     "execution_count": 45,
     "metadata": {},
     "output_type": "execute_result"
    }
   ],
   "source": [
    "#compound score is the overall sentiment of the headline, \n",
    "#which can range from -1 to +1 with -1 being negative sentiment and +1 being positive\n",
    "#final input into the ML models will be the compound score\n",
    "compound = df[['compound', 'headline']]\n",
    "compound.head()\n"
   ]
  },
  {
   "cell_type": "code",
   "execution_count": 51,
   "metadata": {},
   "outputs": [
    {
     "name": "stdout",
     "output_type": "stream",
     "text": [
      "43.115656822810585\n"
     ]
    }
   ],
   "source": [
    "#average of all compound scores \n",
    "#normalized to [0,1] and expressed in percentage\n",
    "mean = df[\"compound\"].mean()\n",
    "mean = ((mean+1)/2)*100\n",
    "print(mean)"
   ]
  }
 ],
 "metadata": {
  "kernelspec": {
   "display_name": "Python 3",
   "language": "python",
   "name": "python3"
  },
  "language_info": {
   "codemirror_mode": {
    "name": "ipython",
    "version": 3
   },
   "file_extension": ".py",
   "mimetype": "text/x-python",
   "name": "python",
   "nbconvert_exporter": "python",
   "pygments_lexer": "ipython3",
   "version": "3.11.4"
  },
  "orig_nbformat": 4
 },
 "nbformat": 4,
 "nbformat_minor": 2
}
