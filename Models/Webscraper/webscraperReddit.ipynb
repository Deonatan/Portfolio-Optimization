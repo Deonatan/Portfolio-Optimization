{
 "cells": [
  {
   "cell_type": "code",
   "execution_count": 6,
   "metadata": {},
   "outputs": [],
   "source": [
    "from pprint import pprint\n",
    "import pandas as pd\n",
    "import numpy as np\n",
    "import matplotlib.pyplot as plt\n",
    "import seaborn as sns"
   ]
  },
  {
   "cell_type": "code",
   "execution_count": 7,
   "metadata": {},
   "outputs": [],
   "source": [
    "import praw\n",
    "\n",
    "user_agent = \"Scraper 1.0\"\n",
    "reddit = praw.Reddit(\n",
    "    client_id = \"gscPTd0wywq_IjgqoL1Smg\",\n",
    "    client_secret = \"UAeWcM7eWeVXQVRJLZehtFq655Dzmw\",\n",
    "    user_agent = user_agent\n",
    ")"
   ]
  },
  {
   "cell_type": "code",
   "execution_count": 8,
   "metadata": {},
   "outputs": [
    {
     "name": "stdout",
     "output_type": "stream",
     "text": [
      "2094\n"
     ]
    }
   ],
   "source": [
    "headlines = set()\n",
    "\n",
    "for submission in reddit.subreddit('politics').hot(limit = None):\n",
    "    #print(submission.title)\n",
    "    #print(submission.id)\n",
    "    #print(submission.author)\n",
    "    #print(submission.created_utc)\n",
    "    #print(submission.score)\n",
    "    #print(submission.upvote_ratio)\n",
    "    #print(submission.url)\n",
    "    #break\n",
    "    headlines.add(submission.title)\n",
    "for submission in reddit.subreddit('news').hot(limit = None):\n",
    "    headlines.add(submission.title)\n",
    "for submission in reddit.subreddit('worldnews').hot(limit = None):\n",
    "    headlines.add(submission.title)\n",
    "for submission in reddit.subreddit('technology').hot(limit = None):\n",
    "    headlines.add(submission.title)\n",
    "print(len(headlines))\n"
   ]
  },
  {
   "cell_type": "code",
   "execution_count": 9,
   "metadata": {},
   "outputs": [
    {
     "data": {
      "text/html": [
       "<div>\n",
       "<style scoped>\n",
       "    .dataframe tbody tr th:only-of-type {\n",
       "        vertical-align: middle;\n",
       "    }\n",
       "\n",
       "    .dataframe tbody tr th {\n",
       "        vertical-align: top;\n",
       "    }\n",
       "\n",
       "    .dataframe thead th {\n",
       "        text-align: right;\n",
       "    }\n",
       "</style>\n",
       "<table border=\"1\" class=\"dataframe\">\n",
       "  <thead>\n",
       "    <tr style=\"text-align: right;\">\n",
       "      <th></th>\n",
       "      <th>0</th>\n",
       "    </tr>\n",
       "  </thead>\n",
       "  <tbody>\n",
       "    <tr>\n",
       "      <th>0</th>\n",
       "      <td>Embracer Group Looks to Sell Video Game Studio...</td>\n",
       "    </tr>\n",
       "    <tr>\n",
       "      <th>1</th>\n",
       "      <td>Chesebro advances adventurous argument on ‘fak...</td>\n",
       "    </tr>\n",
       "    <tr>\n",
       "      <th>2</th>\n",
       "      <td>'I didn't come here to shut the government dow...</td>\n",
       "    </tr>\n",
       "    <tr>\n",
       "      <th>3</th>\n",
       "      <td>Democrats Continue Special Election Streak In ...</td>\n",
       "    </tr>\n",
       "    <tr>\n",
       "      <th>4</th>\n",
       "      <td>Russia strikes cities from east to west Ukrain...</td>\n",
       "    </tr>\n",
       "  </tbody>\n",
       "</table>\n",
       "</div>"
      ],
      "text/plain": [
       "                                                   0\n",
       "0  Embracer Group Looks to Sell Video Game Studio...\n",
       "1  Chesebro advances adventurous argument on ‘fak...\n",
       "2  'I didn't come here to shut the government dow...\n",
       "3  Democrats Continue Special Election Streak In ...\n",
       "4  Russia strikes cities from east to west Ukrain..."
      ]
     },
     "execution_count": 9,
     "metadata": {},
     "output_type": "execute_result"
    }
   ],
   "source": [
    "df = pd.DataFrame(headlines)\n",
    "df.head()"
   ]
  },
  {
   "cell_type": "code",
   "execution_count": 10,
   "metadata": {},
   "outputs": [],
   "source": [
    "df.to_csv('headlines.csv', header = False, encoding = 'utf-8', index = False)"
   ]
  },
  {
   "cell_type": "code",
   "execution_count": 11,
   "metadata": {},
   "outputs": [
    {
     "name": "stderr",
     "output_type": "stream",
     "text": [
      "[nltk_data] Downloading package vader_lexicon to\n",
      "[nltk_data]     C:\\Users\\Albert\\AppData\\Roaming\\nltk_data...\n",
      "[nltk_data]   Package vader_lexicon is already up-to-date!\n"
     ]
    },
    {
     "data": {
      "text/plain": [
       "True"
      ]
     },
     "execution_count": 11,
     "metadata": {},
     "output_type": "execute_result"
    }
   ],
   "source": [
    "import nltk\n",
    "nltk.download('vader_lexicon')"
   ]
  },
  {
   "cell_type": "code",
   "execution_count": 12,
   "metadata": {},
   "outputs": [
    {
     "name": "stdout",
     "output_type": "stream",
     "text": [
      "[{'compound': 0.0,\n",
      "  'headline': 'Embracer Group Looks to Sell Video Game Studio Gearbox',\n",
      "  'neg': 0.0,\n",
      "  'neu': 1.0,\n",
      "  'pos': 0.0},\n",
      " {'compound': -0.0258,\n",
      "  'headline': 'Chesebro advances adventurous argument on ‘fake elector’ plot',\n",
      "  'neg': 0.229,\n",
      "  'neu': 0.55,\n",
      "  'pos': 0.22},\n",
      " {'compound': 0.0,\n",
      "  'headline': \"'I didn't come here to shut the government down', says House Republican\",\n",
      "  'neg': 0.0,\n",
      "  'neu': 1.0,\n",
      "  'pos': 0.0}]\n"
     ]
    }
   ],
   "source": [
    "from nltk.sentiment.vader import SentimentIntensityAnalyzer as SIA\n",
    "sia = SIA()\n",
    "results = []\n",
    "for line in headlines:\n",
    "    pol_score = sia.polarity_scores(line)\n",
    "    pol_score['headline'] = line\n",
    "    results.append(pol_score)\n",
    "\n",
    "pprint(results[:3], width = 100 )"
   ]
  },
  {
   "cell_type": "code",
   "execution_count": 13,
   "metadata": {},
   "outputs": [
    {
     "data": {
      "text/html": [
       "<div>\n",
       "<style scoped>\n",
       "    .dataframe tbody tr th:only-of-type {\n",
       "        vertical-align: middle;\n",
       "    }\n",
       "\n",
       "    .dataframe tbody tr th {\n",
       "        vertical-align: top;\n",
       "    }\n",
       "\n",
       "    .dataframe thead th {\n",
       "        text-align: right;\n",
       "    }\n",
       "</style>\n",
       "<table border=\"1\" class=\"dataframe\">\n",
       "  <thead>\n",
       "    <tr style=\"text-align: right;\">\n",
       "      <th></th>\n",
       "      <th>neg</th>\n",
       "      <th>neu</th>\n",
       "      <th>pos</th>\n",
       "      <th>compound</th>\n",
       "      <th>headline</th>\n",
       "    </tr>\n",
       "  </thead>\n",
       "  <tbody>\n",
       "    <tr>\n",
       "      <th>0</th>\n",
       "      <td>0.000</td>\n",
       "      <td>1.000</td>\n",
       "      <td>0.000</td>\n",
       "      <td>0.0000</td>\n",
       "      <td>Embracer Group Looks to Sell Video Game Studio...</td>\n",
       "    </tr>\n",
       "    <tr>\n",
       "      <th>1</th>\n",
       "      <td>0.229</td>\n",
       "      <td>0.550</td>\n",
       "      <td>0.220</td>\n",
       "      <td>-0.0258</td>\n",
       "      <td>Chesebro advances adventurous argument on ‘fak...</td>\n",
       "    </tr>\n",
       "    <tr>\n",
       "      <th>2</th>\n",
       "      <td>0.000</td>\n",
       "      <td>1.000</td>\n",
       "      <td>0.000</td>\n",
       "      <td>0.0000</td>\n",
       "      <td>'I didn't come here to shut the government dow...</td>\n",
       "    </tr>\n",
       "    <tr>\n",
       "      <th>3</th>\n",
       "      <td>0.000</td>\n",
       "      <td>0.748</td>\n",
       "      <td>0.252</td>\n",
       "      <td>0.4019</td>\n",
       "      <td>Democrats Continue Special Election Streak In ...</td>\n",
       "    </tr>\n",
       "    <tr>\n",
       "      <th>4</th>\n",
       "      <td>0.365</td>\n",
       "      <td>0.635</td>\n",
       "      <td>0.000</td>\n",
       "      <td>-0.7845</td>\n",
       "      <td>Russia strikes cities from east to west Ukrain...</td>\n",
       "    </tr>\n",
       "  </tbody>\n",
       "</table>\n",
       "</div>"
      ],
      "text/plain": [
       "     neg    neu    pos  compound  \\\n",
       "0  0.000  1.000  0.000    0.0000   \n",
       "1  0.229  0.550  0.220   -0.0258   \n",
       "2  0.000  1.000  0.000    0.0000   \n",
       "3  0.000  0.748  0.252    0.4019   \n",
       "4  0.365  0.635  0.000   -0.7845   \n",
       "\n",
       "                                            headline  \n",
       "0  Embracer Group Looks to Sell Video Game Studio...  \n",
       "1  Chesebro advances adventurous argument on ‘fak...  \n",
       "2  'I didn't come here to shut the government dow...  \n",
       "3  Democrats Continue Special Election Streak In ...  \n",
       "4  Russia strikes cities from east to west Ukrain...  "
      ]
     },
     "execution_count": 13,
     "metadata": {},
     "output_type": "execute_result"
    }
   ],
   "source": [
    "df = pd.DataFrame.from_records(results)\n",
    "df.head()"
   ]
  },
  {
   "cell_type": "code",
   "execution_count": 14,
   "metadata": {},
   "outputs": [
    {
     "data": {
      "text/html": [
       "<div>\n",
       "<style scoped>\n",
       "    .dataframe tbody tr th:only-of-type {\n",
       "        vertical-align: middle;\n",
       "    }\n",
       "\n",
       "    .dataframe tbody tr th {\n",
       "        vertical-align: top;\n",
       "    }\n",
       "\n",
       "    .dataframe thead th {\n",
       "        text-align: right;\n",
       "    }\n",
       "</style>\n",
       "<table border=\"1\" class=\"dataframe\">\n",
       "  <thead>\n",
       "    <tr style=\"text-align: right;\">\n",
       "      <th></th>\n",
       "      <th>neg</th>\n",
       "      <th>neu</th>\n",
       "      <th>pos</th>\n",
       "      <th>compound</th>\n",
       "      <th>headline</th>\n",
       "      <th>label</th>\n",
       "    </tr>\n",
       "  </thead>\n",
       "  <tbody>\n",
       "    <tr>\n",
       "      <th>0</th>\n",
       "      <td>0.000</td>\n",
       "      <td>1.000</td>\n",
       "      <td>0.000</td>\n",
       "      <td>0.0000</td>\n",
       "      <td>Embracer Group Looks to Sell Video Game Studio...</td>\n",
       "      <td>0</td>\n",
       "    </tr>\n",
       "    <tr>\n",
       "      <th>1</th>\n",
       "      <td>0.229</td>\n",
       "      <td>0.550</td>\n",
       "      <td>0.220</td>\n",
       "      <td>-0.0258</td>\n",
       "      <td>Chesebro advances adventurous argument on ‘fak...</td>\n",
       "      <td>0</td>\n",
       "    </tr>\n",
       "    <tr>\n",
       "      <th>2</th>\n",
       "      <td>0.000</td>\n",
       "      <td>1.000</td>\n",
       "      <td>0.000</td>\n",
       "      <td>0.0000</td>\n",
       "      <td>'I didn't come here to shut the government dow...</td>\n",
       "      <td>0</td>\n",
       "    </tr>\n",
       "    <tr>\n",
       "      <th>3</th>\n",
       "      <td>0.000</td>\n",
       "      <td>0.748</td>\n",
       "      <td>0.252</td>\n",
       "      <td>0.4019</td>\n",
       "      <td>Democrats Continue Special Election Streak In ...</td>\n",
       "      <td>1</td>\n",
       "    </tr>\n",
       "    <tr>\n",
       "      <th>4</th>\n",
       "      <td>0.365</td>\n",
       "      <td>0.635</td>\n",
       "      <td>0.000</td>\n",
       "      <td>-0.7845</td>\n",
       "      <td>Russia strikes cities from east to west Ukrain...</td>\n",
       "      <td>-1</td>\n",
       "    </tr>\n",
       "  </tbody>\n",
       "</table>\n",
       "</div>"
      ],
      "text/plain": [
       "     neg    neu    pos  compound  \\\n",
       "0  0.000  1.000  0.000    0.0000   \n",
       "1  0.229  0.550  0.220   -0.0258   \n",
       "2  0.000  1.000  0.000    0.0000   \n",
       "3  0.000  0.748  0.252    0.4019   \n",
       "4  0.365  0.635  0.000   -0.7845   \n",
       "\n",
       "                                            headline  label  \n",
       "0  Embracer Group Looks to Sell Video Game Studio...      0  \n",
       "1  Chesebro advances adventurous argument on ‘fak...      0  \n",
       "2  'I didn't come here to shut the government dow...      0  \n",
       "3  Democrats Continue Special Election Streak In ...      1  \n",
       "4  Russia strikes cities from east to west Ukrain...     -1  "
      ]
     },
     "execution_count": 14,
     "metadata": {},
     "output_type": "execute_result"
    }
   ],
   "source": [
    "df['label'] = 0 \n",
    "df.loc[df['compound'] > 0.2, 'label'] = 1\n",
    "df.loc[df['compound'] < 0.2, 'label'] = -1\n",
    "df.loc[(0.2 > df['compound']) & (df['compound'] > -0.2), 'label'] = 0\n",
    "df.head()\n",
    "\n"
   ]
  },
  {
   "cell_type": "code",
   "execution_count": 15,
   "metadata": {},
   "outputs": [],
   "source": [
    "df2 = df[['headline', 'label']]"
   ]
  },
  {
   "cell_type": "code",
   "execution_count": 16,
   "metadata": {},
   "outputs": [],
   "source": [
    "df2.to_csv('reddit_headline_labels.csv', encoding = 'utf-8', index = False)"
   ]
  },
  {
   "cell_type": "code",
   "execution_count": 17,
   "metadata": {},
   "outputs": [
    {
     "data": {
      "text/plain": [
       " 0    925\n",
       "-1    775\n",
       " 1    394\n",
       "Name: label, dtype: int64"
      ]
     },
     "execution_count": 17,
     "metadata": {},
     "output_type": "execute_result"
    }
   ],
   "source": [
    "df.label.value_counts()"
   ]
  },
  {
   "cell_type": "code",
   "execution_count": 18,
   "metadata": {},
   "outputs": [
    {
     "data": {
      "text/plain": [
       " 0    44.173830\n",
       "-1    37.010506\n",
       " 1    18.815664\n",
       "Name: label, dtype: float64"
      ]
     },
     "execution_count": 18,
     "metadata": {},
     "output_type": "execute_result"
    }
   ],
   "source": [
    "df.label.value_counts(normalize = True) * 100"
   ]
  },
  {
   "cell_type": "code",
   "execution_count": 19,
   "metadata": {},
   "outputs": [
    {
     "name": "stdout",
     "output_type": "stream",
     "text": [
      "Positive headlines: \n",
      "\n",
      "['Democrats Continue Special Election Streak In Pennsylvania, New Hampshire',\n",
      " 'M.B.A. Students vs. ChatGPT: Who Comes Up With More Innovative Ideas? | We put humans and AI to the test. The results weren’t even close.',\n",
      " 'This Is the True Scale of New York’s Airbnb Apocalypse',\n",
      " \"California's controversial CARE Court brings mental health care into the courtroom\",\n",
      " 'Exclusive: Huawei unit ships Chinese-made surveillance chips in fresh comeback sign']\n",
      "\n",
      "Negative headlines: \n",
      "\n",
      "['Russia strikes cities from east to west Ukraine, starting fires and killing at least 2',\n",
      " '‘There is no way out’: residents of Nagorno-Karabakh fear worst as Azerbaijan’s troops take control',\n",
      " 'New College of Florida under investigation for alleged civil rights violation',\n",
      " 'Fake Spare Parts Were Supplied to Fix Top-Selling Jet Engine',\n",
      " 'Schumer Filing Cloture on Trio of Military Promotions Blocked by Sen. Tommy Tuberville']\n"
     ]
    }
   ],
   "source": [
    "print(\"Positive headlines: \\n\")\n",
    "pprint(list(df[df['label'] == 1].headline)[:5], width = 200)\n",
    "\n",
    "print(\"\\nNegative headlines: \\n\")\n",
    "pprint(list(df[df['label'] == -1].headline)[:5], width = 200)"
   ]
  },
  {
   "cell_type": "code",
   "execution_count": 20,
   "metadata": {},
   "outputs": [
    {
     "data": {
      "image/png": "[encoded data removed]",
      "text/plain": [
       "<Figure size 800x800 with 1 Axes>"
      ]
     },
     "metadata": {},
     "output_type": "display_data"
    }
   ],
   "source": [
    "fig, ax = plt.subplots(figsize = (8, 8))\n",
    "counts = df.label.value_counts(normalize = True)*100\n",
    "\n",
    "sns.barplot(x=counts.index, y=counts, ax=ax)\n",
    "ax.set_xticklabels([\"Negative\", \"Neutral\", \"Positive\"])\n",
    "ax.set_ylabel(\"Percentage\")\n",
    "plt.show()"
   ]
  },
  {
   "cell_type": "code",
   "execution_count": 27,
   "metadata": {},
   "outputs": [
    {
     "data": {
      "text/html": [
       "<div>\n",
       "<style scoped>\n",
       "    .dataframe tbody tr th:only-of-type {\n",
       "        vertical-align: middle;\n",
       "    }\n",
       "\n",
       "    .dataframe tbody tr th {\n",
       "        vertical-align: top;\n",
       "    }\n",
       "\n",
       "    .dataframe thead th {\n",
       "        text-align: right;\n",
       "    }\n",
       "</style>\n",
       "<table border=\"1\" class=\"dataframe\">\n",
       "  <thead>\n",
       "    <tr style=\"text-align: right;\">\n",
       "      <th></th>\n",
       "      <th>compound</th>\n",
       "      <th>headline</th>\n",
       "    </tr>\n",
       "  </thead>\n",
       "  <tbody>\n",
       "    <tr>\n",
       "      <th>0</th>\n",
       "      <td>0.0000</td>\n",
       "      <td>Embracer Group Looks to Sell Video Game Studio...</td>\n",
       "    </tr>\n",
       "    <tr>\n",
       "      <th>1</th>\n",
       "      <td>-0.0258</td>\n",
       "      <td>Chesebro advances adventurous argument on ‘fak...</td>\n",
       "    </tr>\n",
       "    <tr>\n",
       "      <th>2</th>\n",
       "      <td>0.0000</td>\n",
       "      <td>'I didn't come here to shut the government dow...</td>\n",
       "    </tr>\n",
       "    <tr>\n",
       "      <th>3</th>\n",
       "      <td>0.4019</td>\n",
       "      <td>Democrats Continue Special Election Streak In ...</td>\n",
       "    </tr>\n",
       "    <tr>\n",
       "      <th>4</th>\n",
       "      <td>-0.7845</td>\n",
       "      <td>Russia strikes cities from east to west Ukrain...</td>\n",
       "    </tr>\n",
       "  </tbody>\n",
       "</table>\n",
       "</div>"
      ],
      "text/plain": [
       "   compound                                           headline\n",
       "0    0.0000  Embracer Group Looks to Sell Video Game Studio...\n",
       "1   -0.0258  Chesebro advances adventurous argument on ‘fak...\n",
       "2    0.0000  'I didn't come here to shut the government dow...\n",
       "3    0.4019  Democrats Continue Special Election Streak In ...\n",
       "4   -0.7845  Russia strikes cities from east to west Ukrain..."
      ]
     },
     "execution_count": 27,
     "metadata": {},
     "output_type": "execute_result"
    }
   ],
   "source": [
    "#compound score is the overall sentiment of the headline, \n",
    "#which can range from -1 to +1 with -1 being negative sentiment and +1 being positive\n",
    "#final input into the ML models will be the compound score\n",
    "compound = df[['compound', 'headline']]\n",
    "compound.head()"
   ]
  }
 ],
 "metadata": {
  "kernelspec": {
   "display_name": "Python 3",
   "language": "python",
   "name": "python3"
  },
  "language_info": {
   "codemirror_mode": {
    "name": "ipython",
    "version": 3
   },
   "file_extension": ".py",
   "mimetype": "text/x-python",
   "name": "python",
   "nbconvert_exporter": "python",
   "pygments_lexer": "ipython3",
   "version": "3.11.4"
  },
  "orig_nbformat": 4
 },
 "nbformat": 4,
 "nbformat_minor": 2
}
