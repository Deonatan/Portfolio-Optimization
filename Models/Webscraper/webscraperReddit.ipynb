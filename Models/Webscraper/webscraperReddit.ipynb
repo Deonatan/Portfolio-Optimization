{
 "cells": [
  {
   "cell_type": "code",
   "execution_count": 34,
   "metadata": {},
   "outputs": [],
   "source": [
    "from pprint import pprint\n",
    "import pandas as pd\n",
    "import numpy as np\n",
    "import matplotlib.pyplot as plt\n",
    "import seaborn as sns"
   ]
  },
  {
   "cell_type": "code",
   "execution_count": 35,
   "metadata": {},
   "outputs": [],
   "source": [
    "import praw\n",
    "\n",
    "user_agent = \"Scraper 1.0\"\n",
    "reddit = praw.Reddit(\n",
    "    client_id = \"gscPTd0wywq_IjgqoL1Smg\",\n",
    "    client_secret = \"UAeWcM7eWeVXQVRJLZehtFq655Dzmw\",\n",
    "    user_agent = user_agent\n",
    ")"
   ]
  },
  {
   "cell_type": "code",
   "execution_count": 36,
   "metadata": {},
   "outputs": [
    {
     "name": "stdout",
     "output_type": "stream",
     "text": [
      "728\n"
     ]
    }
   ],
   "source": [
    "headlines = set()\n",
    "for submission in reddit.subreddit('politics').hot(limit = None):\n",
    "    #print(submission.title)\n",
    "    #print(submission.id)\n",
    "    #print(submission.author)\n",
    "    #print(submission.created_utc)\n",
    "    #print(submission.score)\n",
    "    #print(submission.upvote_ratio)\n",
    "    #print(submission.url)\n",
    "    #break\n",
    "    headlines.add(submission.title)\n",
    "print(len(headlines))"
   ]
  },
  {
   "cell_type": "code",
   "execution_count": 37,
   "metadata": {},
   "outputs": [
    {
     "data": {
      "text/html": [
       "<div>\n",
       "<style scoped>\n",
       "    .dataframe tbody tr th:only-of-type {\n",
       "        vertical-align: middle;\n",
       "    }\n",
       "\n",
       "    .dataframe tbody tr th {\n",
       "        vertical-align: top;\n",
       "    }\n",
       "\n",
       "    .dataframe thead th {\n",
       "        text-align: right;\n",
       "    }\n",
       "</style>\n",
       "<table border=\"1\" class=\"dataframe\">\n",
       "  <thead>\n",
       "    <tr style=\"text-align: right;\">\n",
       "      <th></th>\n",
       "      <th>0</th>\n",
       "    </tr>\n",
       "  </thead>\n",
       "  <tbody>\n",
       "    <tr>\n",
       "      <th>0</th>\n",
       "      <td>US likely to send long-range ATACMS missiles t...</td>\n",
       "    </tr>\n",
       "    <tr>\n",
       "      <th>1</th>\n",
       "      <td>The ‘Fake’ Trump Legal Fund Playing Both Sides...</td>\n",
       "    </tr>\n",
       "    <tr>\n",
       "      <th>2</th>\n",
       "      <td>Supreme Court Asked by Danco to Preserve Abort...</td>\n",
       "    </tr>\n",
       "    <tr>\n",
       "      <th>3</th>\n",
       "      <td>McCarthy, Under Threat From Right Flank, to En...</td>\n",
       "    </tr>\n",
       "    <tr>\n",
       "      <th>4</th>\n",
       "      <td>Putin says Trump prosecution shows 'rottenness...</td>\n",
       "    </tr>\n",
       "  </tbody>\n",
       "</table>\n",
       "</div>"
      ],
      "text/plain": [
       "                                                   0\n",
       "0  US likely to send long-range ATACMS missiles t...\n",
       "1  The ‘Fake’ Trump Legal Fund Playing Both Sides...\n",
       "2  Supreme Court Asked by Danco to Preserve Abort...\n",
       "3  McCarthy, Under Threat From Right Flank, to En...\n",
       "4  Putin says Trump prosecution shows 'rottenness..."
      ]
     },
     "execution_count": 37,
     "metadata": {},
     "output_type": "execute_result"
    }
   ],
   "source": [
    "df = pd.DataFrame(headlines)\n",
    "df.head()"
   ]
  },
  {
   "cell_type": "code",
   "execution_count": 38,
   "metadata": {},
   "outputs": [],
   "source": [
    "df.to_csv('headlines.csv', header = False, encoding = 'utf-8', index = False)"
   ]
  },
  {
   "cell_type": "code",
   "execution_count": 39,
   "metadata": {},
   "outputs": [
    {
     "name": "stderr",
     "output_type": "stream",
     "text": [
      "[nltk_data] Downloading package vader_lexicon to\n",
      "[nltk_data]     C:\\Users\\Albert\\AppData\\Roaming\\nltk_data...\n",
      "[nltk_data]   Package vader_lexicon is already up-to-date!\n"
     ]
    },
    {
     "data": {
      "text/plain": [
       "True"
      ]
     },
     "execution_count": 39,
     "metadata": {},
     "output_type": "execute_result"
    }
   ],
   "source": [
    "import nltk\n",
    "nltk.download('vader_lexicon')"
   ]
  },
  {
   "cell_type": "code",
   "execution_count": 40,
   "metadata": {},
   "outputs": [
    {
     "name": "stdout",
     "output_type": "stream",
     "text": [
      "[{'compound': 0.0,\n",
      "  'headline': 'US likely to send long-range ATACMS missiles to Ukraine for the first time: '\n",
      "              'Officials',\n",
      "  'neg': 0.0,\n",
      "  'neu': 1.0,\n",
      "  'pos': 0.0},\n",
      " {'compound': 0.3182,\n",
      "  'headline': 'The ‘Fake’ Trump Legal Fund Playing Both Sides and Duping Everyone',\n",
      "  'neg': 0.0,\n",
      "  'neu': 0.732,\n",
      "  'pos': 0.268},\n",
      " {'compound': 0.5574,\n",
      "  'headline': 'Supreme Court Asked by Danco to Preserve Abortion Pill Access',\n",
      "  'neg': 0.0,\n",
      "  'neu': 0.714,\n",
      "  'pos': 0.286}]\n"
     ]
    }
   ],
   "source": [
    "from nltk.sentiment.vader import SentimentIntensityAnalyzer as SIA\n",
    "sia = SIA()\n",
    "results = []\n",
    "for line in headlines:\n",
    "    pol_score = sia.polarity_scores(line)\n",
    "    pol_score['headline'] = line\n",
    "    results.append(pol_score)\n",
    "\n",
    "pprint(results[:3], width = 100 )"
   ]
  },
  {
   "cell_type": "code",
   "execution_count": 41,
   "metadata": {},
   "outputs": [
    {
     "data": {
      "text/html": [
       "<div>\n",
       "<style scoped>\n",
       "    .dataframe tbody tr th:only-of-type {\n",
       "        vertical-align: middle;\n",
       "    }\n",
       "\n",
       "    .dataframe tbody tr th {\n",
       "        vertical-align: top;\n",
       "    }\n",
       "\n",
       "    .dataframe thead th {\n",
       "        text-align: right;\n",
       "    }\n",
       "</style>\n",
       "<table border=\"1\" class=\"dataframe\">\n",
       "  <thead>\n",
       "    <tr style=\"text-align: right;\">\n",
       "      <th></th>\n",
       "      <th>neg</th>\n",
       "      <th>neu</th>\n",
       "      <th>pos</th>\n",
       "      <th>compound</th>\n",
       "      <th>headline</th>\n",
       "    </tr>\n",
       "  </thead>\n",
       "  <tbody>\n",
       "    <tr>\n",
       "      <th>0</th>\n",
       "      <td>0.000</td>\n",
       "      <td>1.000</td>\n",
       "      <td>0.000</td>\n",
       "      <td>0.0000</td>\n",
       "      <td>US likely to send long-range ATACMS missiles t...</td>\n",
       "    </tr>\n",
       "    <tr>\n",
       "      <th>1</th>\n",
       "      <td>0.000</td>\n",
       "      <td>0.732</td>\n",
       "      <td>0.268</td>\n",
       "      <td>0.3182</td>\n",
       "      <td>The ‘Fake’ Trump Legal Fund Playing Both Sides...</td>\n",
       "    </tr>\n",
       "    <tr>\n",
       "      <th>2</th>\n",
       "      <td>0.000</td>\n",
       "      <td>0.714</td>\n",
       "      <td>0.286</td>\n",
       "      <td>0.5574</td>\n",
       "      <td>Supreme Court Asked by Danco to Preserve Abort...</td>\n",
       "    </tr>\n",
       "    <tr>\n",
       "      <th>3</th>\n",
       "      <td>0.248</td>\n",
       "      <td>0.584</td>\n",
       "      <td>0.168</td>\n",
       "      <td>-0.2732</td>\n",
       "      <td>McCarthy, Under Threat From Right Flank, to En...</td>\n",
       "    </tr>\n",
       "    <tr>\n",
       "      <th>4</th>\n",
       "      <td>0.286</td>\n",
       "      <td>0.714</td>\n",
       "      <td>0.000</td>\n",
       "      <td>-0.4939</td>\n",
       "      <td>Putin says Trump prosecution shows 'rottenness...</td>\n",
       "    </tr>\n",
       "  </tbody>\n",
       "</table>\n",
       "</div>"
      ],
      "text/plain": [
       "     neg    neu    pos  compound  \\\n",
       "0  0.000  1.000  0.000    0.0000   \n",
       "1  0.000  0.732  0.268    0.3182   \n",
       "2  0.000  0.714  0.286    0.5574   \n",
       "3  0.248  0.584  0.168   -0.2732   \n",
       "4  0.286  0.714  0.000   -0.4939   \n",
       "\n",
       "                                            headline  \n",
       "0  US likely to send long-range ATACMS missiles t...  \n",
       "1  The ‘Fake’ Trump Legal Fund Playing Both Sides...  \n",
       "2  Supreme Court Asked by Danco to Preserve Abort...  \n",
       "3  McCarthy, Under Threat From Right Flank, to En...  \n",
       "4  Putin says Trump prosecution shows 'rottenness...  "
      ]
     },
     "execution_count": 41,
     "metadata": {},
     "output_type": "execute_result"
    }
   ],
   "source": [
    "df = pd.DataFrame.from_records(results)\n",
    "df.head()"
   ]
  },
  {
   "cell_type": "code",
   "execution_count": 42,
   "metadata": {},
   "outputs": [
    {
     "data": {
      "text/html": [
       "<div>\n",
       "<style scoped>\n",
       "    .dataframe tbody tr th:only-of-type {\n",
       "        vertical-align: middle;\n",
       "    }\n",
       "\n",
       "    .dataframe tbody tr th {\n",
       "        vertical-align: top;\n",
       "    }\n",
       "\n",
       "    .dataframe thead th {\n",
       "        text-align: right;\n",
       "    }\n",
       "</style>\n",
       "<table border=\"1\" class=\"dataframe\">\n",
       "  <thead>\n",
       "    <tr style=\"text-align: right;\">\n",
       "      <th></th>\n",
       "      <th>neg</th>\n",
       "      <th>neu</th>\n",
       "      <th>pos</th>\n",
       "      <th>compound</th>\n",
       "      <th>headline</th>\n",
       "      <th>label</th>\n",
       "    </tr>\n",
       "  </thead>\n",
       "  <tbody>\n",
       "    <tr>\n",
       "      <th>0</th>\n",
       "      <td>0.000</td>\n",
       "      <td>1.000</td>\n",
       "      <td>0.000</td>\n",
       "      <td>0.0000</td>\n",
       "      <td>US likely to send long-range ATACMS missiles t...</td>\n",
       "      <td>0</td>\n",
       "    </tr>\n",
       "    <tr>\n",
       "      <th>1</th>\n",
       "      <td>0.000</td>\n",
       "      <td>0.732</td>\n",
       "      <td>0.268</td>\n",
       "      <td>0.3182</td>\n",
       "      <td>The ‘Fake’ Trump Legal Fund Playing Both Sides...</td>\n",
       "      <td>1</td>\n",
       "    </tr>\n",
       "    <tr>\n",
       "      <th>2</th>\n",
       "      <td>0.000</td>\n",
       "      <td>0.714</td>\n",
       "      <td>0.286</td>\n",
       "      <td>0.5574</td>\n",
       "      <td>Supreme Court Asked by Danco to Preserve Abort...</td>\n",
       "      <td>1</td>\n",
       "    </tr>\n",
       "    <tr>\n",
       "      <th>3</th>\n",
       "      <td>0.248</td>\n",
       "      <td>0.584</td>\n",
       "      <td>0.168</td>\n",
       "      <td>-0.2732</td>\n",
       "      <td>McCarthy, Under Threat From Right Flank, to En...</td>\n",
       "      <td>-1</td>\n",
       "    </tr>\n",
       "    <tr>\n",
       "      <th>4</th>\n",
       "      <td>0.286</td>\n",
       "      <td>0.714</td>\n",
       "      <td>0.000</td>\n",
       "      <td>-0.4939</td>\n",
       "      <td>Putin says Trump prosecution shows 'rottenness...</td>\n",
       "      <td>-1</td>\n",
       "    </tr>\n",
       "  </tbody>\n",
       "</table>\n",
       "</div>"
      ],
      "text/plain": [
       "     neg    neu    pos  compound  \\\n",
       "0  0.000  1.000  0.000    0.0000   \n",
       "1  0.000  0.732  0.268    0.3182   \n",
       "2  0.000  0.714  0.286    0.5574   \n",
       "3  0.248  0.584  0.168   -0.2732   \n",
       "4  0.286  0.714  0.000   -0.4939   \n",
       "\n",
       "                                            headline  label  \n",
       "0  US likely to send long-range ATACMS missiles t...      0  \n",
       "1  The ‘Fake’ Trump Legal Fund Playing Both Sides...      1  \n",
       "2  Supreme Court Asked by Danco to Preserve Abort...      1  \n",
       "3  McCarthy, Under Threat From Right Flank, to En...     -1  \n",
       "4  Putin says Trump prosecution shows 'rottenness...     -1  "
      ]
     },
     "execution_count": 42,
     "metadata": {},
     "output_type": "execute_result"
    }
   ],
   "source": [
    "df['label'] = 0 \n",
    "df.loc[df['compound'] > 0.2, 'label'] = 1\n",
    "df.loc[df['compound'] < 0.2, 'label'] = -1\n",
    "df.loc[(0.2 > df['compound']) & (df['compound'] > -0.2), 'label'] = 0\n",
    "df.head()\n",
    "\n"
   ]
  },
  {
   "cell_type": "code",
   "execution_count": 43,
   "metadata": {},
   "outputs": [],
   "source": [
    "df2 = df[['headline', 'label']]"
   ]
  },
  {
   "cell_type": "code",
   "execution_count": 44,
   "metadata": {},
   "outputs": [],
   "source": [
    "df2.to_csv('reddit_headline_labels.csv', encoding = 'utf-8', index = False)"
   ]
  },
  {
   "cell_type": "code",
   "execution_count": 45,
   "metadata": {},
   "outputs": [
    {
     "data": {
      "text/plain": [
       " 0    314\n",
       "-1    249\n",
       " 1    165\n",
       "Name: label, dtype: int64"
      ]
     },
     "execution_count": 45,
     "metadata": {},
     "output_type": "execute_result"
    }
   ],
   "source": [
    "df.label.value_counts()"
   ]
  },
  {
   "cell_type": "code",
   "execution_count": 46,
   "metadata": {},
   "outputs": [
    {
     "data": {
      "text/plain": [
       " 0    43.131868\n",
       "-1    34.203297\n",
       " 1    22.664835\n",
       "Name: label, dtype: float64"
      ]
     },
     "execution_count": 46,
     "metadata": {},
     "output_type": "execute_result"
    }
   ],
   "source": [
    "df.label.value_counts(normalize = True) * 100"
   ]
  },
  {
   "cell_type": "code",
   "execution_count": 47,
   "metadata": {},
   "outputs": [
    {
     "name": "stdout",
     "output_type": "stream",
     "text": [
      "Positive headlines: \n",
      "\n",
      "['The ‘Fake’ Trump Legal Fund Playing Both Sides and Duping Everyone',\n",
      " 'Supreme Court Asked by Danco to Preserve Abortion Pill Access',\n",
      " 'Covid Hero or ‘Lockdown Ron’? DeSantis and Trump Renew Pandemic Politics',\n",
      " 'Harlan Crow Funded Ginni Thomas Group Created in Anticipation of Citizens United',\n",
      " \"Ron DeSantis Spots Room For 'Pardons And Commutations' Among Sentenced Proud Boys\"]\n",
      "\n",
      "Negative headlines: \n",
      "\n",
      "['McCarthy, Under Threat From Right Flank, to Endorse Impeachment Inquiry',\n",
      " \"Putin says Trump prosecution shows 'rottenness' of U.S. politics\",\n",
      " \"Fani Willis schools Congressman Jim Jordan on Constitution in response to Jordan's attempted prosecution interference\",\n",
      " 'Pathetic: Vivek Ramaswamy Tried to Tweet a CNN Town Hall Into Existence',\n",
      " '\"Necessary to defend our republic\": Republicans sue to keep Trump off ballot in battleground state - The suit alleges that Trump\\'s incitement of the Jan. 6 attack disqualifies him under the 14th '\n",
      " 'Amendment']\n"
     ]
    }
   ],
   "source": [
    "print(\"Positive headlines: \\n\")\n",
    "pprint(list(df[df['label'] == 1].headline)[:5], width = 200)\n",
    "\n",
    "print(\"\\nNegative headlines: \\n\")\n",
    "pprint(list(df[df['label'] == -1].headline)[:5], width = 200)"
   ]
  },
  {
   "cell_type": "code",
   "execution_count": 49,
   "metadata": {},
   "outputs": [
    {
     "data": {
      "image/png": "[encoded data removed]",
      "text/plain": [
       "<Figure size 800x800 with 1 Axes>"
      ]
     },
     "metadata": {},
     "output_type": "display_data"
    }
   ],
   "source": [
    "fig, ax = plt.subplots(figsize = (8, 8))\n",
    "counts = df.label.value_counts(normalize = True)*100\n",
    "\n",
    "sns.barplot(x=counts.index, y=counts, ax=ax)\n",
    "ax.set_xticklabels([\"Negative\", \"Neutral\", \"Positive\"])\n",
    "ax.set_ylabel(\"Percentage\")\n",
    "plt.show()"
   ]
  }
 ],
 "metadata": {
  "kernelspec": {
   "display_name": "Python 3",
   "language": "python",
   "name": "python3"
  },
  "language_info": {
   "codemirror_mode": {
    "name": "ipython",
    "version": 3
   },
   "file_extension": ".py",
   "mimetype": "text/x-python",
   "name": "python",
   "nbconvert_exporter": "python",
   "pygments_lexer": "ipython3",
   "version": "3.11.4"
  },
  "orig_nbformat": 4
 },
 "nbformat": 4,
 "nbformat_minor": 2
}
