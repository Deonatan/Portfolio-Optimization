{
 "cells": [
  {
   "cell_type": "code",
   "execution_count": 1,
   "metadata": {
    "id": "YNqRFHFEeDkJ"
   },
   "outputs": [
    {
     "name": "stderr",
     "output_type": "stream",
     "text": [
      "C:\\Users\\Dell\\anaconda3\\lib\\site-packages\\pandas\\core\\computation\\expressions.py:20: UserWarning: Pandas requires version '2.7.3' or newer of 'numexpr' (version '2.7.1' currently installed).\n",
      "  from pandas.core.computation.check import NUMEXPR_INSTALLED\n"
     ]
    },
    {
     "ename": "ModuleNotFoundError",
     "evalue": "No module named 'keras'",
     "output_type": "error",
     "traceback": [
      "\u001b[1;31m---------------------------------------------------------------------------\u001b[0m",
      "\u001b[1;31mModuleNotFoundError\u001b[0m                       Traceback (most recent call last)",
      "\u001b[1;32m<ipython-input-1-11f3063de608>\u001b[0m in \u001b[0;36m<module>\u001b[1;34m\u001b[0m\n\u001b[0;32m      3\u001b[0m \u001b[1;33m\u001b[0m\u001b[0m\n\u001b[0;32m      4\u001b[0m \u001b[1;32mimport\u001b[0m \u001b[0mnumpy\u001b[0m \u001b[1;32mas\u001b[0m \u001b[0mnp\u001b[0m\u001b[1;33m\u001b[0m\u001b[1;33m\u001b[0m\u001b[0m\n\u001b[1;32m----> 5\u001b[1;33m \u001b[1;32mimport\u001b[0m \u001b[0mkeras\u001b[0m\u001b[1;33m\u001b[0m\u001b[1;33m\u001b[0m\u001b[0m\n\u001b[0m\u001b[0;32m      6\u001b[0m \u001b[1;32mfrom\u001b[0m \u001b[0mkeras\u001b[0m\u001b[1;33m.\u001b[0m\u001b[0mmodels\u001b[0m \u001b[1;32mimport\u001b[0m \u001b[0mSequential\u001b[0m\u001b[1;33m\u001b[0m\u001b[1;33m\u001b[0m\u001b[0m\n\u001b[0;32m      7\u001b[0m \u001b[1;32mfrom\u001b[0m \u001b[0mkeras\u001b[0m\u001b[1;33m.\u001b[0m\u001b[0mlayers\u001b[0m \u001b[1;32mimport\u001b[0m \u001b[0mDense\u001b[0m\u001b[1;33m\u001b[0m\u001b[1;33m\u001b[0m\u001b[0m\n",
      "\u001b[1;31mModuleNotFoundError\u001b[0m: No module named 'keras'"
     ]
    }
   ],
   "source": [
    "import pandas as pd\n",
    "import matplotlib.pyplot as plt\n",
    "\n",
    "import numpy as np\n",
    "import keras\n",
    "from keras.models import Sequential\n",
    "from keras.layers import Dense\n",
    "from keras.layers import Dropout\n",
    "\n",
    "import yfinance as yf\n",
    "\n",
    "from datetime import datetime, timedelta\n",
    "\n",
    "import requests\n",
    "import json\n",
    "\n",
    "from keras.models import Sequential\n",
    "from keras.layers import LSTM\n",
    "from keras.layers import Dense\n",
    "from keras.layers import Dropout\n",
    "from sklearn.metrics import mean_absolute_error, mean_squared_error"
   ]
  },
  {
   "cell_type": "code",
   "execution_count": null,
   "metadata": {},
   "outputs": [
    {
     "ename": "",
     "evalue": "",
     "output_type": "error",
     "traceback": [
      "\u001b[1;31mRunning cells with 'c:\\Users\\Dell\\anaconda3\\envs\\ee0005\\python.exe' requires the ipykernel package.\n",
      "\u001b[1;31mRun the following command to install 'ipykernel' into the Python environment. \n",
      "\u001b[1;31mCommand: 'c:/Users/Dell/anaconda3/envs/ee0005/python.exe -m pip install ipykernel -U --force-reinstall'"
     ]
    }
   ],
   "source": [
    "import yfinance as yf\n",
    "end_date = datetime.datetime.today().strftime('%Y-%m-%d')\n",
    "start_date = (datetime.datetime.today() - datetime.timedelta(days=365*20)).strftime('%Y-%m-%d')\n",
    "spy_data = yf.Ticker('SPY').history(start=start_date, end=end_date)\n",
    "ndaq_data= yf.Ticker('NDAQ').history(start=start_date, end=end_date)\n",
    "\n",
    "# Extract Bond and Commodity Data\n",
    "bond_data = yf.download('BOND', start=start_date, end=end_date)\n",
    "vigit_data = yf.download('VGIT', start=start_date, end=end_date)\n",
    "xle_data = yf.download('XLE', start=start_date, end=end_date)\n",
    "iau_data = yf.download('IAU', start=start_date, end=end_date)\n",
    "bitcoin_data  = yf.download('BTC-USD', start=start_date, end=end_date)\n",
    "etm_data =  yf.download('ETH-USD', start=start_date, end=end_date)\n"
   ]
  },
  {
   "cell_type": "code",
   "execution_count": null,
   "metadata": {},
   "outputs": [
    {
     "ename": "",
     "evalue": "",
     "output_type": "error",
     "traceback": [
      "\u001b[1;31mRunning cells with 'c:\\Users\\Dell\\anaconda3\\envs\\ee0005\\python.exe' requires the ipykernel package.\n",
      "\u001b[1;31mRun the following command to install 'ipykernel' into the Python environment. \n",
      "\u001b[1;31mCommand: 'c:/Users/Dell/anaconda3/envs/ee0005/python.exe -m pip install ipykernel -U --force-reinstall'"
     ]
    }
   ],
   "source": [
    "spy_data.head()"
   ]
  },
  {
   "cell_type": "code",
   "execution_count": null,
   "metadata": {},
   "outputs": [
    {
     "ename": "",
     "evalue": "",
     "output_type": "error",
     "traceback": [
      "\u001b[1;31mRunning cells with 'c:\\Users\\Dell\\anaconda3\\envs\\ee0005\\python.exe' requires the ipykernel package.\n",
      "\u001b[1;31mRun the following command to install 'ipykernel' into the Python environment. \n",
      "\u001b[1;31mCommand: 'c:/Users/Dell/anaconda3/envs/ee0005/python.exe -m pip install ipykernel -U --force-reinstall'"
     ]
    }
   ],
   "source": [
    "\n",
    "etfs= [spy_data, ndaq_data]\n",
    "other_assets = [bond_data, vigit_data, xle_data, iau_data, bitcoin_data, etm_data]"
   ]
  },
  {
   "cell_type": "markdown",
   "metadata": {
    "id": "MUgbno6IZy3Y"
   },
   "source": [
    "**LSTM PRICE PREDICTION**"
   ]
  },
  {
   "cell_type": "code",
   "execution_count": null,
   "metadata": {},
   "outputs": [
    {
     "ename": "",
     "evalue": "",
     "output_type": "error",
     "traceback": [
      "\u001b[1;31mRunning cells with 'c:\\Users\\Dell\\anaconda3\\envs\\ee0005\\python.exe' requires the ipykernel package.\n",
      "\u001b[1;31mRun the following command to install 'ipykernel' into the Python environment. \n",
      "\u001b[1;31mCommand: 'c:/Users/Dell/anaconda3/envs/ee0005/python.exe -m pip install ipykernel -U --force-reinstall'"
     ]
    }
   ],
   "source": [
    "import pandas_ta as ta\n",
    "spy_data[\"RSI\"] = ta.rsi(spy_data.Close, length=15)\n",
    "#Exponential moving average with different time span\n",
    "spy_data[\"EMAF\"] = ta.ema(spy_data.Close, length=20)\n",
    "spy_data[\"EMAM\"] = ta.ema(spy_data.Close, length=100)\n",
    "spy_data[\"EMAS\"] = ta.ema(spy_data.Close, length=150)\n",
    "\n",
    "#next day target price\n",
    "spy_data[\"Target\"] = (spy_data['Adj Close']-spy_data[\"Open\"]).shift(-1)\n",
    "spy_data[\"TargetClass\"] = [1 if spy_data[\"Target\"][i] > 0 else 0 for i in range(len(spy_data))]\n",
    "spy_data[\"NextCloseTarget\"] = spy_data[\"Adj Close\"].shift(-1)\n"
   ]
  },
  {
   "cell_type": "code",
   "execution_count": null,
   "metadata": {},
   "outputs": [
    {
     "ename": "",
     "evalue": "",
     "output_type": "error",
     "traceback": [
      "\u001b[1;31mRunning cells with 'c:\\Users\\Dell\\anaconda3\\envs\\ee0005\\python.exe' requires the ipykernel package.\n",
      "\u001b[1;31mRun the following command to install 'ipykernel' into the Python environment. \n",
      "\u001b[1;31mCommand: 'c:/Users/Dell/anaconda3/envs/ee0005/python.exe -m pip install ipykernel -U --force-reinstall'"
     ]
    }
   ],
   "source": [
    "spy_data.dropna(inplace=True)\n",
    "spy_data.reset_index(inplace=True)\n",
    "spy_data.drop(['Volume', 'Close', 'Date'], axis=1, inplace=True)"
   ]
  },
  {
   "cell_type": "code",
   "execution_count": null,
   "metadata": {
    "colab": {
     "base_uri": "https://localhost:8080/"
    },
    "id": "FnvV9cRfmzR3",
    "outputId": "3ff1261f-62bb-4aab-e6f5-cd242c16a713"
   },
   "outputs": [
    {
     "ename": "",
     "evalue": "",
     "output_type": "error",
     "traceback": [
      "\u001b[1;31mRunning cells with 'c:\\Users\\Dell\\anaconda3\\envs\\ee0005\\python.exe' requires the ipykernel package.\n",
      "\u001b[1;31mRun the following command to install 'ipykernel' into the Python environment. \n",
      "\u001b[1;31mCommand: 'c:/Users/Dell/anaconda3/envs/ee0005/python.exe -m pip install ipykernel -U --force-reinstall'"
     ]
    }
   ],
   "source": [
    "import yfinance as yf\n",
    "import numpy as np\n",
    "import pandas as pd\n",
    "from sklearn.preprocessing import MinMaxScaler\n",
    "from sklearn.metrics import mean_absolute_error, mean_squared_error\n",
    "from tensorflow.keras.optimizers import Adam\n",
    " # Build and train the LSTM model\n",
    "from keras.models import Sequential\n",
    "from keras.layers import LSTM, Dense\n",
    "from tensorflow.keras.callbacks import EarlyStopping\n",
    "\n",
    "def fit_LSTM(data):\n",
    "# Extract the 'Close' prices as the target variable\n",
    "    prices = data.values.reshape(-1, 1)\n",
    "\n",
    "    # Normalize the data using Min-Max scaling\n",
    "    scaler = MinMaxScaler()\n",
    "    prices_scaled = scaler.fit_transform(prices)\n",
    "\n",
    "    # Define a function to create sequences for LSTM training\n",
    "    def create_sequences(data, sequence_length):\n",
    "        X, y = [], []\n",
    "        for i in range(len(data) - sequence_length):\n",
    "            X.append(data[i:i+sequence_length])\n",
    "            y.append(data[i+sequence_length])\n",
    "        return np.array(X), np.array(y)\n",
    "\n",
    "    # Hyperparameters\n",
    "    sequence_length = 60  # Adjust as needed\n",
    "    train_ratio = 0.7\n",
    "    validation_ratio = 0.1\n",
    "    test_ratio = 0.2\n",
    "\n",
    "    # Calculate split indices\n",
    "    total_len = len(prices_scaled)\n",
    "    train_split = int(total_len * train_ratio)\n",
    "    validation_split = int(total_len * (train_ratio + validation_ratio))\n",
    "\n",
    "    # Create sequences for training\n",
    "    X, y = create_sequences(prices_scaled, sequence_length)\n",
    "\n",
    "    # Split data into training, validation, and testing sets\n",
    "    X_train, X_val, X_test = X[:train_split], X[train_split:validation_split], X[validation_split:]\n",
    "    y_train, y_val, y_test = y[:train_split], y[train_split:validation_split], y[validation_split:]\n",
    " \n",
    "    model = Sequential()\n",
    "    model.add(LSTM(units=50, activation='relu', input_shape=(sequence_length, 1)))\n",
    "    model.add(Dense(units=1))\n",
    "\n",
    "    es = EarlyStopping(patience=10, verbose=3)\n",
    "\n",
    "    model.compile(loss='mse',\n",
    "                optimizer=Adam(),\n",
    "                metrics=['mean_absolute_error'])\n",
    "    model.fit(X_train, y_train, epochs=100, batch_size=32, verbose=2, validation_data=(X_val, y_val), callbacks=es)\n",
    "\n",
    "    y_pred = model.predict(X_test)\n",
    "\n",
    "    # Inverse transform the scaled data to get actual prices\n",
    "    y_test_actual = scaler.inverse_transform(y_test)\n",
    "    y_pred_actual = scaler.inverse_transform(y_pred)\n",
    "\n",
    "    mae = mean_absolute_error(y_test_actual, y_pred_actual)\n",
    "    mse = mean_squared_error(y_test_actual, y_pred_actual)\n",
    "    rmse = np.sqrt(mse)\n",
    "\n",
    "    print(f\"Mean Absolute Error (MAE): {mae:.2f}\")\n",
    "    print(f\"Mean Squared Error (MSE): {mse:.2f}\")\n",
    "    print(f\"Root Mean Squared Error (RMSE): {rmse:.2f}\")\n",
    "    lst_output=[]\n",
    "    n_steps=60\n",
    "    i=0\n",
    "    x_input = prices_scaled[validation_split:][-60:].reshape(1,-1)\n",
    "    temp_input=list(x_input)\n",
    "    temp_input=temp_input[0].tolist()\n",
    "\n",
    "\n",
    "    while(i<30):\n",
    "        \n",
    "        if(len(temp_input)>60):\n",
    "            \n",
    "            x_input=np.array(temp_input[1:])\n",
    "            print(\"{} day input {}\".format(i,x_input))\n",
    "            x_input=x_input.reshape(1,-1)\n",
    "            x_input = x_input.reshape((1, n_steps, 1))\n",
    "            #print(x_input)\n",
    "            yhat = model.predict(x_input, verbose=0)\n",
    "            print(\"{} day output {}\".format(i,yhat))\n",
    "            temp_input.extend(yhat[0].tolist())\n",
    "            temp_input=temp_input[1:]\n",
    "            #print(temp_input)\n",
    "            lst_output.extend(yhat.tolist())\n",
    "            i=i+1\n",
    "        else:\n",
    "            x_input = x_input.reshape((1, n_steps,1))\n",
    "            yhat = model.predict(x_input, verbose=0)\n",
    "            print(yhat[0])\n",
    "            temp_input.extend(yhat[0].tolist())\n",
    "            print(len(temp_input))\n",
    "            lst_output.extend(yhat.tolist())\n",
    "            i=i+1\n",
    "    \n",
    "    lst_output = scaler.inverse_transform(np.array(lst_output))\n",
    "    \n",
    "    return model, lst_output, scaler, y_pred_actual\n",
    "        \n"
   ]
  },
  {
   "cell_type": "code",
   "execution_count": null,
   "metadata": {},
   "outputs": [
    {
     "ename": "",
     "evalue": "",
     "output_type": "error",
     "traceback": [
      "\u001b[1;31mRunning cells with 'c:\\Users\\Dell\\anaconda3\\envs\\ee0005\\python.exe' requires the ipykernel package.\n",
      "\u001b[1;31mRun the following command to install 'ipykernel' into the Python environment. \n",
      "\u001b[1;31mCommand: 'c:/Users/Dell/anaconda3/envs/ee0005/python.exe -m pip install ipykernel -U --force-reinstall'"
     ]
    }
   ],
   "source": [
    "\n",
    "etf_asset_name  = ['SPY', 'NDAQ']\n",
    "other_asset_name = ['BOND', 'VIGIT', 'XLE', 'IAU', 'BITCOIN', 'ETM']"
   ]
  },
  {
   "cell_type": "code",
   "execution_count": null,
   "metadata": {},
   "outputs": [
    {
     "ename": "",
     "evalue": "",
     "output_type": "error",
     "traceback": [
      "\u001b[1;31mRunning cells with 'c:\\Users\\Dell\\anaconda3\\envs\\ee0005\\python.exe' requires the ipykernel package.\n",
      "\u001b[1;31mRun the following command to install 'ipykernel' into the Python environment. \n",
      "\u001b[1;31mCommand: 'c:/Users/Dell/anaconda3/envs/ee0005/python.exe -m pip install ipykernel -U --force-reinstall'"
     ]
    }
   ],
   "source": [
    "import pickle\n",
    "counter = 0\n",
    "for asset in etfs:\n",
    "    model, forecast, scaler, y_pred_actual = fit_LSTM(asset['Close'])\n",
    "    pickle.dump(model, open(f'{etf_asset_name[counter]}_model.pkl', 'wb'))\n",
    "    \n",
    "    counter+=1\n",
    "    "
   ]
  },
  {
   "cell_type": "code",
   "execution_count": null,
   "metadata": {},
   "outputs": [
    {
     "ename": "",
     "evalue": "",
     "output_type": "error",
     "traceback": [
      "\u001b[1;31mRunning cells with 'c:\\Users\\Dell\\anaconda3\\envs\\ee0005\\python.exe' requires the ipykernel package.\n",
      "\u001b[1;31mRun the following command to install 'ipykernel' into the Python environment. \n",
      "\u001b[1;31mCommand: 'c:/Users/Dell/anaconda3/envs/ee0005/python.exe -m pip install ipykernel -U --force-reinstall'"
     ]
    }
   ],
   "source": [
    "import pickle\n",
    "counter = 0\n",
    "for asset in other_assets:\n",
    "    model, forecast, scaler, y_pred_actual = fit_LSTM(asset['Adj Close'])\n",
    "    pickle.dump(model, open(f'{other_asset_name[counter]}_model.pkl', 'wb'))\n",
    "    counter+=1\n",
    "    "
   ]
  },
  {
   "cell_type": "code",
   "execution_count": null,
   "metadata": {},
   "outputs": [
    {
     "ename": "",
     "evalue": "",
     "output_type": "error",
     "traceback": [
      "\u001b[1;31mRunning cells with 'c:\\Users\\Dell\\anaconda3\\envs\\ee0005\\python.exe' requires the ipykernel package.\n",
      "\u001b[1;31mRun the following command to install 'ipykernel' into the Python environment. \n",
      "\u001b[1;31mCommand: 'c:/Users/Dell/anaconda3/envs/ee0005/python.exe -m pip install ipykernel -U --force-reinstall'"
     ]
    }
   ],
   "source": [
    "#code to load picker files\n",
    "\n",
    "\n",
    "model_1 = pickle.load(open('SPY_model.pkl' , 'rb'))\n",
    "model_2 = pickle.load(open('NDAQ_model.pkl' , 'rb'))\n",
    "model_3 = pickle.load(open('BOND_model.pkl' , 'rb'))\n",
    "model_4 = pickle.load(open('VIGIT_model.pkl' , 'rb'))\n",
    "model_5 = pickle.load(open('XLE_model.pkl' , 'rb'))\n",
    "model_6 = pickle.load(open('IAU_model.pkl' , 'rb'))\n",
    "model_7 = pickle.load(open('BITCOIN_model.pkl' , 'rb'))\n",
    "model_8 = pickle.load(open('ETM_model.pkl' , 'rb'))\n"
   ]
  },
  {
   "cell_type": "code",
   "execution_count": null,
   "metadata": {},
   "outputs": [
    {
     "ename": "",
     "evalue": "",
     "output_type": "error",
     "traceback": [
      "\u001b[1;31mRunning cells with 'c:\\Users\\Dell\\anaconda3\\envs\\ee0005\\python.exe' requires the ipykernel package.\n",
      "\u001b[1;31mRun the following command to install 'ipykernel' into the Python environment. \n",
      "\u001b[1;31mCommand: 'c:/Users/Dell/anaconda3/envs/ee0005/python.exe -m pip install ipykernel -U --force-reinstall'"
     ]
    }
   ],
   "source": [
    "\n",
    "plt.plot(np.arange(60,90),forecast)"
   ]
  }
 ],
 "metadata": {
  "colab": {
   "provenance": []
  },
  "kernelspec": {
   "display_name": "Python 3",
   "language": "python",
   "name": "python3"
  },
  "language_info": {
   "codemirror_mode": {
    "name": "ipython",
    "version": 3
   },
   "file_extension": ".py",
   "mimetype": "text/x-python",
   "name": "python",
   "nbconvert_exporter": "python",
   "pygments_lexer": "ipython3",
   "version": "3.8.5"
  }
 },
 "nbformat": 4,
 "nbformat_minor": 1
}
